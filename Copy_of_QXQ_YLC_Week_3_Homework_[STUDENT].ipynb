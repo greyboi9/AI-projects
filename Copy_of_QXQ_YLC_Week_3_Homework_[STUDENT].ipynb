{
  "nbformat": 4,
  "nbformat_minor": 0,
  "metadata": {
    "colab": {
      "provenance": [],
      "include_colab_link": true
    },
    "kernelspec": {
      "name": "python3",
      "display_name": "Python 3"
    },
    "language_info": {
      "name": "python"
    }
  },
  "cells": [
    {
      "cell_type": "markdown",
      "metadata": {
        "id": "view-in-github",
        "colab_type": "text"
      },
      "source": [
        "<a href=\"https://colab.research.google.com/github/greyboi9/AI-projects/blob/steepest/Copy_of_QXQ_YLC_Week_3_Homework_%5BSTUDENT%5D.ipynb\" target=\"_parent\"><img src=\"https://colab.research.google.com/assets/colab-badge.svg\" alt=\"Open In Colab\"/></a>"
      ]
    },
    {
      "cell_type": "markdown",
      "source": [
        "# **Homework 3: Introduction to Objects and Debugging**\n",
        "---\n",
        "\n",
        "### **Description**\n",
        "In this homework assignment, you will learn how to work with objects in Python, how to interpret and correct coding errors, and how to search for and navigate documentation.\n",
        "\n",
        "<br>\n",
        "\n",
        "### **Homework Structure**\n",
        "**Part 1**: [Objects, Methods, and Attributes](#p1)\n",
        "\n",
        "**Part 2**: [Debugging](#p2)\n",
        "\n",
        "**Part 3**: [Coding Challenges [OPTIONAL]](#p3)\n",
        "\n",
        "<br>\n",
        "\n",
        "### **Resources**\n",
        "* [Python Basics Cheat Sheet](https://docs.google.com/document/d/1W8xeN-2wtyzM6sz33mGewNdBQ2sdE8dP8UJFhHG_4T4/)\n",
        "\n",
        "<br>\n",
        "\n",
        "### **Learning Objectives**\n",
        "By the end of this homework assignment, you will:\n",
        "* Understand how to interact with objects using methods and attributes.\n",
        "* Improve your debugging skills by correcting common coding errors.\n",
        "* Understand how to search for documentation in various libraries.\n",
        "\n",
        "<br>\n",
        "\n",
        "**Before starting, run the code below to import all necessary functions and libraries.**"
      ],
      "metadata": {
        "id": "F7i_-gofxiqE"
      }
    },
    {
      "cell_type": "code",
      "source": [
        "# @title\n",
        "!pip install qiskit --quiet\n",
        "import warnings\n",
        "import sympy\n",
        "import numpy\n",
        "import matplotlib\n",
        "import time\n",
        "import math\n",
        "from matplotlib import pyplot\n",
        "from qiskit import QuantumCircuit\n",
        "warnings.filterwarnings(\"ignore\")\n",
        "\n",
        "class baby():\n",
        "  def __init__(self,age=0, mood=\"crying\", hunger=\"hungry\"):\n",
        "    self.age = age\n",
        "    self.mood = mood\n",
        "    self.hunger = hunger\n",
        "  def feed(self):\n",
        "    self.hunger = \"full\"\n",
        "  def play(self):\n",
        "    self.mood = \"happy\"\n",
        "\n",
        "def calculate_area(length, width):\n",
        "  area = length * width\n",
        "  return area\n",
        "\n",
        "class plant():\n",
        "  def __init__(self):\n",
        "    self.planted = 0\n",
        "    self.day_of_last_growth = 0\n",
        "    self.day = 0\n",
        "    self.water = 0\n",
        "    self.light = 0\n",
        "    self.health = 10\n",
        "    self.stage = 0\n",
        "    self.perfect_light = numpy.random.choice([1,2,3,4,5,6,7,8,9,10])\n",
        "    self.perfect_water = numpy.random.choice([1,2,3,4,5,6,7,8,9,10])\n",
        "  def water_plant(self,amount):\n",
        "    if amount > 0:\n",
        "      print(\"You watered your plant.\")\n",
        "      self.water += round(amount)\n",
        "    elif amount < 0:\n",
        "      raise ValueError(\"You can't remove water from your plant! You will have to wait a bit for it to dry out.\")\n",
        "    else:\n",
        "      print(\"You decide to not water your plant.\")\n",
        "  def set_light(self,level):\n",
        "    if level <0:\n",
        "      raise ValueError(\"You can't set the light level to negative values.\")\n",
        "    elif level > 10:\n",
        "      raise ValueError(\"Your light is not that strong\")\n",
        "    else:\n",
        "      self.light = round(level)\n",
        "      print(\"You set the light to level \" + str(self.light))\n",
        "\n",
        "  def check_health(self):\n",
        "    print(\"Your plant's health is a \" + str(self.health)+ \"/\" + str(10+(5*self.stage))+\".\")\n",
        "    print(\"If you had to rate the wetness of the soil, it would be a \" + str(self.water)+ \"/10.\")\n",
        "    print(\"Your light is turned up to \" + str(self.light)+ \".\")\n",
        "    if self.stage == 10:\n",
        "      print(\"Your plant is full grown.\")\n",
        "  def wait(self,num_days):\n",
        "    for i in range(num_days):\n",
        "      self.day += 1\n",
        "      print('Day ' + str(self.day))\n",
        "      if self.perfect_light > self.light:\n",
        "        print(\"Your plant needs more light\")\n",
        "        self.health += -1*abs(self.perfect_light- self.light)/10\n",
        "      elif self.perfect_light < self.light:\n",
        "        print(\"Your plant needs less light\")\n",
        "        self.health += -1*abs(self.perfect_light- self.light)/10\n",
        "      else:\n",
        "        print(\"Your plant looks happy with the light it has.\")\n",
        "      if self.perfect_water > self.water:\n",
        "        print(\"Your plant needs more water\")\n",
        "        self.health += -1*abs(self.perfect_water- self.water)/10\n",
        "      elif self.perfect_water < self.water:\n",
        "        print(\"Your plant needs less water\")\n",
        "        self.health += -1*abs(self.perfect_water- self.water)/10\n",
        "      else:\n",
        "        print(\"Your plant looks happy with the water it had.\")\n",
        "      if self.perfect_light == self.light and self.perfect_water == self.water:\n",
        "        self.health = (self.health + 10+(5*self.stage))/2\n",
        "        if self.day- self.day_of_last_growth >= 5 and self.stage < 10:\n",
        "          print(\"Your plant grew a bit! Its preferances may have changed.\")\n",
        "          self.stage += 1\n",
        "          self.health += 5\n",
        "          self.day_of_last_growth = self.day\n",
        "          self.perfect_light = numpy.random.choice([1,2,3,4,5,6,7,8,9,10])\n",
        "          self.perfect_water = numpy.random.choice([1,2,3,4,5,6,7,8,9,10])\n",
        "          if self.stage == 10:\n",
        "            print(\"Congrats! Your plant is full grown.\")\n",
        "      self.water += -1*self.light\n",
        "      if self.water < 0:\n",
        "        self.water = 0\n",
        "      if self.health <= 0:\n",
        "        print(\"Your plant died! You decide to plant a new seed. Treat this one better!\")\n",
        "        self.planted = 0\n",
        "        self.day_of_last_growth = 0\n",
        "        self.day = 0\n",
        "        self.water = 0\n",
        "        self.light = 0\n",
        "        self.health = 10\n",
        "        self.stage = 0\n",
        "        self.perfect_light = numpy.random.choice([1,2,3,4,5,6,7,8,9,10])\n",
        "        self.perfect_water = numpy.random.choice([1,2,3,4,5,6,7,8,9,10])\n",
        "\n",
        "def dynamic_find_roots(a,b,c):\n",
        "  if b**2-4*a*c == 0:\n",
        "    return -b/(2*a)\n",
        "  elif b**2 - 4*a*c <0:\n",
        "    return (-b+1j*(4*a*c-b**2)**0.5)/(2*a),(-b-1j*(4*a*c-b**2)**0.5)/(2*a)\n",
        "  elif b**2 - 4*a*c >0:\n",
        "    return (-b+(b**2-4*a*c)**0.5)/(2*a),(-b-(b**2-4*a*c)**0.5)/(2*a)\n",
        "print(\"Libraries imported successfully!\")"
      ],
      "metadata": {
        "id": "YAvvLhRIoqYp",
        "colab": {
          "base_uri": "https://localhost:8080/"
        },
        "outputId": "3c3646d5-ff9c-4b01-d4cd-f4daf42dd9c7"
      },
      "execution_count": 5,
      "outputs": [
        {
          "output_type": "stream",
          "name": "stdout",
          "text": [
            "\u001b[2K     \u001b[90m━━━━━━━━━━━━━━━━━━━━━━━━━━━━━━━━━━━━━━━━\u001b[0m \u001b[32m6.2/6.2 MB\u001b[0m \u001b[31m11.4 MB/s\u001b[0m eta \u001b[36m0:00:00\u001b[0m\n",
            "\u001b[2K     \u001b[90m━━━━━━━━━━━━━━━━━━━━━━━━━━━━━━━━━━━━━━━━\u001b[0m \u001b[32m2.0/2.0 MB\u001b[0m \u001b[31m22.9 MB/s\u001b[0m eta \u001b[36m0:00:00\u001b[0m\n",
            "\u001b[2K     \u001b[90m━━━━━━━━━━━━━━━━━━━━━━━━━━━━━━━━━━━━━━━━\u001b[0m \u001b[32m49.6/49.6 kB\u001b[0m \u001b[31m5.4 MB/s\u001b[0m eta \u001b[36m0:00:00\u001b[0m\n",
            "\u001b[2K     \u001b[90m━━━━━━━━━━━━━━━━━━━━━━━━━━━━━━━━━━━━━━\u001b[0m \u001b[32m115.3/115.3 kB\u001b[0m \u001b[31m10.2 MB/s\u001b[0m eta \u001b[36m0:00:00\u001b[0m\n",
            "\u001b[2K     \u001b[90m━━━━━━━━━━━━━━━━━━━━━━━━━━━━━━━━━━━━━━━━\u001b[0m \u001b[32m49.6/49.6 kB\u001b[0m \u001b[31m4.6 MB/s\u001b[0m eta \u001b[36m0:00:00\u001b[0m\n",
            "\u001b[2K     \u001b[90m━━━━━━━━━━━━━━━━━━━━━━━━━━━━━━━━━━━━━━━━\u001b[0m \u001b[32m37.5/37.5 MB\u001b[0m \u001b[31m21.8 MB/s\u001b[0m eta \u001b[36m0:00:00\u001b[0m\n",
            "\u001b[2K     \u001b[90m━━━━━━━━━━━━━━━━━━━━━━━━━━━━━━━━━━━━━━\u001b[0m \u001b[32m112.7/112.7 kB\u001b[0m \u001b[31m11.0 MB/s\u001b[0m eta \u001b[36m0:00:00\u001b[0m\n",
            "\u001b[?25hLibraries imported successfully!\n"
          ]
        }
      ]
    },
    {
      "cell_type": "markdown",
      "source": [
        "<a name=\"p1\"></a>\n",
        "\n",
        "---\n",
        "## **Part 1: Objects, Methods, and Attributes**\n",
        "---\n",
        "Python and any libraries we install give us tons of objects to work with. In this part, we will practice interacting with objects using methods and attributes."
      ],
      "metadata": {
        "id": "jhvwNalR6bYe"
      }
    },
    {
      "cell_type": "markdown",
      "source": [
        "#### **Problem #1.1**\n",
        "\n",
        "Create a `baby` object and set its age to 1. Then print out its \"age\" attribute."
      ],
      "metadata": {
        "id": "Fn-MmuBT6dzZ"
      }
    },
    {
      "cell_type": "code",
      "source": [
        "# COMPLETE THIS CODE\n",
        "class Baby():\n",
        "  def __init__(self):\n",
        "    self.age = 0\n",
        "\n",
        "baby = Baby()\n",
        "\n",
        "baby.age= 1\n",
        "\n",
        "print(\"baby age is: \", baby.age)"
      ],
      "metadata": {
        "id": "iszC3Nln2wkT",
        "outputId": "46413ca3-f637-4bda-9c55-1da6691b1249",
        "colab": {
          "base_uri": "https://localhost:8080/"
        }
      },
      "execution_count": 4,
      "outputs": [
        {
          "output_type": "stream",
          "name": "stdout",
          "text": [
            "baby age is:  1\n"
          ]
        }
      ]
    },
    {
      "cell_type": "markdown",
      "source": [
        "#### **Problem #1.2**\n",
        "\n",
        "Print out the baby's `hunger` and `mood` attributes."
      ],
      "metadata": {
        "id": "B51rkpDd9KdP"
      }
    },
    {
      "cell_type": "code",
      "source": [
        "# COMPLETE THIS CODE\n",
        "class Baby():\n",
        "  def __init__(self):\n",
        "    self.age= 0\n",
        "    self.hunger= \"hungry\"\n",
        "    self.mood= \"sad\"\n",
        "\n",
        "baby = Baby()\n",
        "\n",
        "baby.age= 1\n",
        "baby.hunger= \"not hungry\"\n",
        "baby.mood= \"happy\"\n",
        "\n",
        "print(f\"The baby is {baby.hunger} and {baby.mood}\")"
      ],
      "metadata": {
        "id": "ffXS2vaE7b7S",
        "outputId": "c52a2cf7-af82-414b-865c-f9153f74bf31",
        "colab": {
          "base_uri": "https://localhost:8080/"
        }
      },
      "execution_count": 3,
      "outputs": [
        {
          "output_type": "stream",
          "name": "stdout",
          "text": [
            "The baby is not hungry and happy\n"
          ]
        }
      ]
    },
    {
      "cell_type": "markdown",
      "source": [
        "#### **Problem #1.3**\n",
        "\n",
        "Now, use the baby's `feed` and `play` methods. Then print out its `hunger` and `mood` attributes once again."
      ],
      "metadata": {
        "id": "nCy0pue79_rA"
      }
    },
    {
      "cell_type": "code",
      "source": [
        "# COMPLETE THIS CODE\n",
        "class Baby():\n",
        "  def __init__(self):\n",
        "    self.age= 0\n",
        "    self.hunger= \"hungry\"\n",
        "    self.mood= \"sad\"\n",
        "\n",
        "  def feed(self):\n",
        "    self.hunger = \"not hungry\"\n",
        "\n",
        "  def play(self):\n",
        "    self.mood= \"happy\"\n",
        "\n",
        "baby = Baby()\n",
        "\n",
        "baby.age= 1\n",
        "print(f\"The baby is {baby.hunger} and {baby.mood}\")\n",
        "\n",
        "baby.feed()\n",
        "baby.play()\n",
        "\n",
        "print(f\"Baby after feeding and playing: the baby is {baby.hunger} and {baby.mood}\")"
      ],
      "metadata": {
        "id": "ewY0mWW391qb",
        "outputId": "141a7d6b-e0e3-4afd-dccb-8789c4962390",
        "colab": {
          "base_uri": "https://localhost:8080/"
        }
      },
      "execution_count": 2,
      "outputs": [
        {
          "output_type": "stream",
          "name": "stdout",
          "text": [
            "The baby is hungry and sad\n",
            "Baby after feeding and playing: the baby is not hungry and happy\n"
          ]
        }
      ]
    },
    {
      "cell_type": "markdown",
      "source": [
        "#### **Problem #1.4**\n",
        "\n",
        "Create a `plant` object using its corresponding function, and use the `check_health` method to measure the plant's health."
      ],
      "metadata": {
        "id": "9YYUG7us_YLw"
      }
    },
    {
      "cell_type": "code",
      "source": [
        "# COMPLETE CODE\n",
        "class Plant():\n",
        "  def __init__(self, health= 100):\n",
        "    self.health = health\n",
        "\n",
        "  def check_health(self):\n",
        "    return self.health\n",
        "\n",
        "def create_plant():\n",
        "  return Plant(health= 90)\n",
        "\n",
        "plant = create_plant()\n",
        "health = plant.check_health()\n",
        "print(\"plant's health: \", health)"
      ],
      "metadata": {
        "id": "R52FGssZAAEA",
        "colab": {
          "base_uri": "https://localhost:8080/"
        },
        "outputId": "c3f7e9b1-38f2-48dd-ef36-ca05d6c8be23"
      },
      "execution_count": 1,
      "outputs": [
        {
          "output_type": "stream",
          "name": "stdout",
          "text": [
            "plant's health:  90\n"
          ]
        }
      ]
    },
    {
      "cell_type": "markdown",
      "source": [
        "#### **Problem #1.5**\n",
        "\n",
        "Using the necessary methods and attributes, get your plant to grow a bit.\n",
        "\n",
        "**Hint:** Read through the `plant` class to see if there is a way to give it the perfect amount of water and light without guessing and checking."
      ],
      "metadata": {
        "id": "yuW5cDWgAj03"
      }
    },
    {
      "cell_type": "code",
      "source": [
        "# COMPLETE THIS CODE\n",
        "import random\n",
        "\n",
        "class Plant():\n",
        "  def __init__(self):\n",
        "    self.water = 0\n",
        "    self.light= 0\n",
        "    self.health= 100\n",
        "\n",
        "  def give_water(self, amount):\n",
        "        if amount > 0:\n",
        "            self.water += amount\n",
        "        else:\n",
        "          raise ValueError(\"You can not remove water from the plant\")\n",
        "\n",
        "  def set_light(self, level):\n",
        "        if 0 <= level <= 10:\n",
        "            self.light = level\n",
        "        else:\n",
        "            raise ValueError(\"Light level must be between 0 and 10.\")\n",
        "\n",
        "  def check_health(self):\n",
        "    return self.health\n",
        "\n",
        "  def simulate_day(self):\n",
        "    # Simulate changes in health based on water and light levels\n",
        "        water_needed = random.randint(1, 10)\n",
        "        light_needed = random.randint(1, 10)\n",
        "\n",
        "        water_difference = self.water - water_needed\n",
        "        light_difference = self.light - light_needed\n",
        "\n",
        "        # Update health based on the differences\n",
        "        self.health -= abs(water_difference) / 10 + abs(light_difference) / 10\n",
        "\n",
        "        # Ensure health remains within a reasonable range\n",
        "        self.health = max(0, min(100, self.health))\n",
        "\n",
        "plant = Plant()\n",
        "\n",
        "# Water the plant\n",
        "plant.give_water(5)\n",
        "\n",
        "#Give light\n",
        "plant.set_light(7)\n",
        "\n",
        "plant.simulate_day()\n",
        "\n",
        "health = plant.check_health()\n",
        "print(\"Plant's health:\", health)"
      ],
      "metadata": {
        "id": "Hm_lqzKjAPt-",
        "colab": {
          "base_uri": "https://localhost:8080/"
        },
        "outputId": "940e9abd-5448-4629-e851-346d8a36a7d3"
      },
      "execution_count": 16,
      "outputs": [
        {
          "output_type": "stream",
          "name": "stdout",
          "text": [
            "Plant's health: 99.9\n"
          ]
        }
      ]
    },
    {
      "cell_type": "markdown",
      "source": [
        "<a name=\"p2\"></a>\n",
        "\n",
        "---\n",
        "## **Part 2: Debugging**\n",
        "---\n",
        "\n",
        "In this part, we will explore how to identify and correct errors in Python."
      ],
      "metadata": {
        "id": "uAEv8DupGKp7"
      }
    },
    {
      "cell_type": "markdown",
      "source": [
        "#### **Problem #2.1**\n",
        "\n",
        "Debug the code shown below."
      ],
      "metadata": {
        "id": "DJYgxQ2hGN9U"
      }
    },
    {
      "cell_type": "code",
      "source": [
        "x = 17\n",
        "y = 3\n",
        "print(x*y)"
      ],
      "metadata": {
        "colab": {
          "base_uri": "https://localhost:8080/"
        },
        "id": "RA-PHpSHGMOR",
        "outputId": "99d8956b-6c2b-4251-aa38-cbc9346e36a7"
      },
      "execution_count": 10,
      "outputs": [
        {
          "output_type": "stream",
          "name": "stdout",
          "text": [
            "51\n"
          ]
        }
      ]
    },
    {
      "cell_type": "markdown",
      "source": [
        "#### **Problem #2.2**\n",
        "\n",
        "Debug the code shown below."
      ],
      "metadata": {
        "id": "qBRQlNdAIoMM"
      }
    },
    {
      "cell_type": "code",
      "source": [
        "my_list = [3, 1, 4, 1]\n",
        "print(my_list[3])"
      ],
      "metadata": {
        "colab": {
          "base_uri": "https://localhost:8080/"
        },
        "id": "Zw0EixWuIhyv",
        "outputId": "1de0d488-ecae-4b40-c2aa-d7614384412d"
      },
      "execution_count": 11,
      "outputs": [
        {
          "output_type": "stream",
          "name": "stdout",
          "text": [
            "1\n"
          ]
        }
      ]
    },
    {
      "cell_type": "markdown",
      "source": [
        "#### **Problem #2.3**\n",
        "\n",
        "Debug the code shown below."
      ],
      "metadata": {
        "id": "LnemW_PyJSHN"
      }
    },
    {
      "cell_type": "code",
      "source": [],
      "metadata": {
        "id": "QK3_ac0JVJTY"
      },
      "execution_count": null,
      "outputs": []
    },
    {
      "cell_type": "code",
      "source": [
        "import random\n",
        "\n",
        "class Plant:\n",
        "    def __init__(self):\n",
        "        self.water = 0\n",
        "        self.light = 0\n",
        "        self.health = 100\n",
        "\n",
        "    def give_water(self, amount):\n",
        "        if amount > 0:\n",
        "            self.water += amount\n",
        "        else:\n",
        "            raise ValueError(\"You can't remove water from the plant.\")\n",
        "\n",
        "    def set_light(self, level):\n",
        "        if 0 <= level <= 10:\n",
        "            self.light = level\n",
        "        else:\n",
        "            raise ValueError(\"Light level must be between 0 and 10.\")\n",
        "\n",
        "    def check_health(self):\n",
        "        return self.health\n",
        "\n",
        "    def wait(self, num_days=1):\n",
        "        for _ in range(num_days):\n",
        "            # Simulate changes in health based on water and light levels\n",
        "            water_needed = random.randint(1, 10)\n",
        "            light_needed = random.randint(1, 10)\n",
        "\n",
        "            water_difference = self.water - water_needed\n",
        "            light_difference = self.light - light_needed\n",
        "\n",
        "            # Update health based on the differences\n",
        "            self.health -= abs(water_difference) / 10 + abs(light_difference) / 10\n",
        "\n",
        "            # Ensure health remains within a reasonable range\n",
        "            self.health = max(0, min(100, self.health))\n",
        "\n",
        "# Create a plant\n",
        "oak = Plant()\n",
        "\n",
        "# Check the plant's health\n",
        "initial_health = oak.check_health()\n",
        "print(\"Initial health:\", initial_health)\n",
        "\n",
        "# Set the light level\n",
        "oak.set_light(6)\n",
        "\n",
        "# Water the plant\n",
        "oak.give_water(8)\n",
        "\n",
        "# Simulate a day\n",
        "oak.wait()\n",
        "\n",
        "# Check the plant's health again\n",
        "updated_health = oak.check_health()\n",
        "print(\"Updated health:\", updated_health)\n"
      ],
      "metadata": {
        "colab": {
          "base_uri": "https://localhost:8080/"
        },
        "id": "f7o4YPXsKMmj",
        "outputId": "22685b90-f018-4ce6-bedd-91e558269fc8"
      },
      "execution_count": 18,
      "outputs": [
        {
          "output_type": "stream",
          "name": "stdout",
          "text": [
            "Initial health: 100\n",
            "Updated health: 99.5\n"
          ]
        }
      ]
    },
    {
      "cell_type": "markdown",
      "source": [
        "#### **Problem #2.4**\n",
        "\n",
        "Debug the code shown below."
      ],
      "metadata": {
        "id": "pLqchySgLB5E"
      }
    },
    {
      "cell_type": "code",
      "source": [
        "#f(x) = ax^2 + bx + c\n",
        "a = 1\n",
        "b = 8\n",
        "c = 15\n",
        "x1 = (-b + (b**2 - 4*a*c)**0.5)/(2*a)\n",
        "x2 = (-b - (b**2 - 4*a*c)**0.5)/(2*a)\n",
        "print(x1)\n",
        "print(x2)"
      ],
      "metadata": {
        "colab": {
          "base_uri": "https://localhost:8080/"
        },
        "id": "gafSvfZTJ8qO",
        "outputId": "ab6be02c-f88f-4f0f-c024-e145e7202061"
      },
      "execution_count": 19,
      "outputs": [
        {
          "output_type": "stream",
          "name": "stdout",
          "text": [
            "-3.0\n",
            "-5.0\n"
          ]
        }
      ]
    },
    {
      "cell_type": "markdown",
      "source": [
        "#### **Problem #2.5**\n",
        "\n",
        "Debug the code shown below."
      ],
      "metadata": {
        "id": "uesbpA-INjWh"
      }
    },
    {
      "cell_type": "code",
      "source": [
        "class Baby():\n",
        "  def __init__(self):\n",
        "    self.age= 0\n",
        "    self.hunger= \"hungry\"\n",
        "    self.mood= \"sad\"\n",
        "\n",
        "  def set_age(self, new_age):\n",
        "    self.age = new_age\n",
        "\n",
        "alisha = Baby()\n",
        "alisha.set_age(1)\n",
        "print(alisha.age)"
      ],
      "metadata": {
        "colab": {
          "base_uri": "https://localhost:8080/"
        },
        "id": "J3OW1W6aMQu0",
        "outputId": "14141f81-ab6d-4b2f-c89a-36a428d020c4"
      },
      "execution_count": 24,
      "outputs": [
        {
          "output_type": "stream",
          "name": "stdout",
          "text": [
            "1\n"
          ]
        }
      ]
    },
    {
      "cell_type": "markdown",
      "source": [
        "<a name=\"p3\"></a>\n",
        "\n",
        "---\n",
        "## **Part 3: Coding Challenges [OPTIONAL]**\n",
        "---\n",
        "\n",
        "This part contains mini-projects that you can use to practice your Python skills! Remember, you can search for documentation that may help you."
      ],
      "metadata": {
        "id": "hJugshHqalUm"
      }
    },
    {
      "cell_type": "markdown",
      "source": [
        "#### **Problem #3.1**\n",
        "\n",
        "Research the `numpy` module to find a function that allows you simulate rolling a weighted die that is twice as likely to land on 6 than a typical die. Then, simulate this die being rolled six times."
      ],
      "metadata": {
        "id": "7MCBBIuFaqG0"
      }
    },
    {
      "cell_type": "code",
      "source": [
        "# COMPLETE THIS CODE\n",
        "import numpy as np\n",
        "\n",
        "die_faces = [1, 2, 3, 4, 5, 6]\n",
        "probabilities = [1/11, 1/11, 1/11, 1/11, 1/11, 2/11]\n",
        "probabilities = [p / sum(probabilities) for p in probabilities]\n",
        "\n",
        "play = np.random.choice(die_faces, size=6, p=probabilities)\n",
        "\n",
        "print(play)"
      ],
      "metadata": {
        "id": "f6-MmfxWRfhJ",
        "colab": {
          "base_uri": "https://localhost:8080/"
        },
        "outputId": "a219c032-55cb-4a79-e586-90c484146eb9"
      },
      "execution_count": 31,
      "outputs": [
        {
          "output_type": "stream",
          "name": "stdout",
          "text": [
            "[5 1 4 6 6 3]\n"
          ]
        }
      ]
    },
    {
      "cell_type": "markdown",
      "source": [
        "#### **Problem #3.2**\n",
        "\n",
        "Use the `append` method to add \"six\" to the list below. Then, write code the prints out the reversed list."
      ],
      "metadata": {
        "id": "MAbKoxKzey5X"
      }
    },
    {
      "cell_type": "code",
      "source": [
        "my_list = [\"one\",\"two\",\"three\", \"four\",\"five\"]\n",
        "# COMPLETE THIS CODE\n",
        "my_list.append(\"six\")\n",
        "print(my_list)"
      ],
      "metadata": {
        "id": "492gscAegBnq",
        "colab": {
          "base_uri": "https://localhost:8080/"
        },
        "outputId": "a4262d84-6830-4af1-f74b-ccb833a20a9d"
      },
      "execution_count": 26,
      "outputs": [
        {
          "output_type": "stream",
          "name": "stdout",
          "text": [
            "['one', 'two', 'three', 'four', 'five', 'six']\n"
          ]
        }
      ]
    },
    {
      "cell_type": "markdown",
      "source": [
        "#### **Problem #3.3**\n",
        "\n",
        "Research the `matplotlib` module to find a function that creates a line graph of the data provided below. For an extra challenge, label the x-axis \"Year\" and the y-axis \"Number of Transistors per Microprocessor in Millions\". This is a visual representation of Moore's Law!"
      ],
      "metadata": {
        "id": "dbLvQlEJgno8"
      }
    },
    {
      "cell_type": "code",
      "source": [
        "years = [1972, 1982, 1992, 2002, 2012]\n",
        "num_transistors = [.004, .14, 3.11, 220.67, 2600]\n",
        "# COMPLETE THIS CODE"
      ],
      "metadata": {
        "id": "UuekpDjKlkpU"
      },
      "execution_count": null,
      "outputs": []
    },
    {
      "cell_type": "markdown",
      "source": [
        "# End of notebook\n",
        "---\n",
        "© 2023 The Coding School, All rights reserved"
      ],
      "metadata": {
        "id": "88JBud6KoMjn"
      }
    }
  ]
}