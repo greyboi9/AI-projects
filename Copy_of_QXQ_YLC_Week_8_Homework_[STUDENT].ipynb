{
  "nbformat": 4,
  "nbformat_minor": 0,
  "metadata": {
    "colab": {
      "provenance": [],
      "collapsed_sections": [
        "LcUgu10O3zYj",
        "zCs--N7R4GIC",
        "ru1nBj4t4r-y",
        "nF4R9XSK60n7",
        "Ox-TFq4J8bRI",
        "RO3KfNTM_4RV",
        "5YkhDdBtAvLM",
        "6cwoGk80BYIJ",
        "KupbdzKWBn6o",
        "m1R6_DnvC7XS",
        "yqGfWFBKHBkv"
      ],
      "include_colab_link": true
    },
    "kernelspec": {
      "name": "python3",
      "display_name": "Python 3"
    },
    "language_info": {
      "name": "python"
    }
  },
  "cells": [
    {
      "cell_type": "markdown",
      "metadata": {
        "id": "view-in-github",
        "colab_type": "text"
      },
      "source": [
        "<a href=\"https://colab.research.google.com/github/greyboi9/AI-projects/blob/greyboi9-patch-1/Copy_of_QXQ_YLC_Week_8_Homework_%5BSTUDENT%5D.ipynb\" target=\"_parent\"><img src=\"https://colab.research.google.com/assets/colab-badge.svg\" alt=\"Open In Colab\"/></a>"
      ]
    },
    {
      "cell_type": "markdown",
      "source": [
        "# **Homework 8: Multi-Qubit Circuits**\n",
        "---\n",
        "\n",
        "### **Description**\n",
        "In this week's assignment, you will create and work with multi-qubit circuits. You will begin by reviewing how to build quantum circuits and apply quantum gates to those circuit. Then you will apply these skills to creating, simulating, and visualizing the measurement results of multi-qubit circuits.\n",
        "\n",
        "<br>\n",
        "\n",
        "### **Lab Structure**\n",
        "**Part 1**: [Single-Qubit Circuit Review](#p1)\n",
        "\n",
        "**Part 2**: [Multi-Qubit Circuits](#p2)\n",
        "\n",
        "<br>\n",
        "\n",
        "\n",
        "### **Learning Objectives**\n",
        "By the end of this notebook, we will:\n",
        "1. Recognize how to implement multi-qubit circuits, including the CNOT gate, in Cirq.\n",
        "2. Recognize how to simulate and interpret measurement results in Cirq.\n",
        "\n",
        "<br>\n",
        "\n",
        "###**Resources**\n",
        "* [Cirq Basics Cheat Sheet](https://docs.google.com/document/d/1j0vEwtS6fK-tD1DWAPry4tJdxEiq8fwMtXuYNGRhK_M/edit?usp=drive_link)\n",
        "\n",
        "<br>\n",
        "\n",
        "\n",
        "**Before starting, run the code below to import all necessary functions and libraries.**\n"
      ],
      "metadata": {
        "id": "tlsXHj8k2QV9"
      }
    },
    {
      "cell_type": "code",
      "execution_count": 9,
      "metadata": {
        "id": "A-AHbWhD2I-A",
        "colab": {
          "base_uri": "https://localhost:8080/"
        },
        "outputId": "c6ca9948-0602-44f5-8a3f-9997751f67f1"
      },
      "outputs": [
        {
          "output_type": "stream",
          "name": "stdout",
          "text": [
            "Libraries imported successfully!\n"
          ]
        }
      ],
      "source": [
        "# @title\n",
        "!pip install cirq --quiet\n",
        "import cirq\n",
        "import cirq_web\n",
        "import numpy as np\n",
        "import cirq_web.bloch_sphere as bloch_sphere\n",
        "import matplotlib.pyplot as plt\n",
        "def binary_labels(num_qubits):\n",
        "    return [bin(x)[2:].zfill(num_qubits) for x in range(2 ** num_qubits)]\n",
        "print(\"Libraries imported successfully!\")"
      ]
    },
    {
      "cell_type": "markdown",
      "source": [
        "<a name=\"p1\"></a>\n",
        "\n",
        "---\n",
        "## **Part 1: Single-Qubit Circuit Review**\n",
        "---"
      ],
      "metadata": {
        "id": "qanjUZ2U3ezK"
      }
    },
    {
      "cell_type": "markdown",
      "source": [
        "### **Problem #1.1**\n",
        "\n",
        "1. Create a qubit.\n",
        "2. Create an empty quantum circuit.\n",
        "3. Append the qubit you created to the empty quantum circuit with an **H Gate** applied to it.\n",
        "4. Then print out the circuit.\n",
        "5. Print out the state vector, dirac notation, and bloch sphere of the qubit in the quantum circuit."
      ],
      "metadata": {
        "id": "LcUgu10O3zYj"
      }
    },
    {
      "cell_type": "code",
      "source": [
        "# COMPLETE THIS CODE\n",
        "my_qubit = cirq.NamedQubit(\"q0\")\n",
        "my_circuit = cirq.Circuit()\n",
        "my_circuit.append(cirq.H(cirq.NamedQubit(\"q0\")))"
      ],
      "metadata": {
        "id": "k39JhUy6MIvM"
      },
      "execution_count": 10,
      "outputs": []
    },
    {
      "cell_type": "code",
      "source": [
        "# COMPLETE THIS CODE\n",
        "print(my_circuit)\n",
        "sv = cirq.final_state_vector(my_circuit)\n",
        "print(sv)"
      ],
      "metadata": {
        "id": "90TXxuj8MIvR",
        "colab": {
          "base_uri": "https://localhost:8080/"
        },
        "outputId": "6bfc33df-079a-4811-f97e-4a4dc129ac78"
      },
      "execution_count": 11,
      "outputs": [
        {
          "output_type": "stream",
          "name": "stdout",
          "text": [
            "q0: ───H───\n",
            "[0.70710677+0.j 0.70710677+0.j]\n"
          ]
        }
      ]
    },
    {
      "cell_type": "markdown",
      "source": [
        "### **Problem #1.2**\n",
        "Append a measurement to your circuit from problem #1.1. Output the circuit. Simulate the results of your circuit."
      ],
      "metadata": {
        "id": "zCs--N7R4GIC"
      }
    },
    {
      "cell_type": "code",
      "source": [
        "# COMPLETE THIS CODE\n",
        "my_circuit.append(cirq.measure(my_qubit))\n",
        "sim = cirq.Simulator()\n",
        "result = sim.run(my_circuit)\n",
        "result"
      ],
      "metadata": {
        "id": "SyyfcprBMGpV",
        "colab": {
          "base_uri": "https://localhost:8080/"
        },
        "outputId": "3962268e-4143-4295-85d9-f356d0043160"
      },
      "execution_count": 12,
      "outputs": [
        {
          "output_type": "execute_result",
          "data": {
            "text/plain": [
              "q0=1"
            ]
          },
          "metadata": {},
          "execution_count": 12
        }
      ]
    },
    {
      "cell_type": "code",
      "source": [
        "# COMPLETE THIS CODE"
      ],
      "metadata": {
        "id": "TDZpGzRhMGpV"
      },
      "execution_count": 13,
      "outputs": []
    },
    {
      "cell_type": "markdown",
      "source": [
        "###**Problem #1.3**\n",
        "Simulate the results of your circuit from Problem #1.2 10 times. Output the results. Simulate the results of your circuit."
      ],
      "metadata": {
        "id": "ru1nBj4t4r-y"
      }
    },
    {
      "cell_type": "code",
      "source": [
        "# COMPLETE THIS CODE\n",
        "sim = cirq.Simulator()\n",
        "result = sim.run(my_circuit, repetitions=10)\n",
        "result\n"
      ],
      "metadata": {
        "id": "rW3-kkUCMDN2",
        "colab": {
          "base_uri": "https://localhost:8080/"
        },
        "outputId": "00d2a4cd-8f8d-423e-fa48-d4768c7cbf54"
      },
      "execution_count": 16,
      "outputs": [
        {
          "output_type": "execute_result",
          "data": {
            "text/plain": [
              "q0=1000001110"
            ]
          },
          "metadata": {},
          "execution_count": 16
        }
      ]
    },
    {
      "cell_type": "markdown",
      "source": [
        "###**Problem #1.4**\n",
        "1. Append the below circuit such that the qubit will end in the 0 state.\n",
        "2. Append a measurement to your circuit\n",
        "3. Print out the circuit.\n",
        "4. Simulate the result of your circuit 500 times and output the results to ensure that the qubit is in the 0 state."
      ],
      "metadata": {
        "id": "nF4R9XSK60n7"
      }
    },
    {
      "cell_type": "code",
      "source": [
        "# COMPLETE THIS CODE\n",
        "sub_circuit = cirq.Circuit()\n",
        "sub_circuit.append(cirq.X(cirq.NamedQubit(\"q0\")))"
      ],
      "metadata": {
        "id": "VahaFgQkL_hf"
      },
      "execution_count": 25,
      "outputs": []
    },
    {
      "cell_type": "code",
      "source": [
        "# COMPLETE THIS CODE\n",
        "my_circuit = cirq.Circuit()\n",
        "my_circuit.append(sub_circuit)\n",
        "my_circuit.append(cirq.X(cirq.NamedQubit(\"q0\")))\n",
        "\n",
        "my_circuit.append(cirq.measure(cirq.NamedQubit(\"q0\")))\n",
        "print(my_circuit)"
      ],
      "metadata": {
        "id": "69IySBSKL-9u",
        "colab": {
          "base_uri": "https://localhost:8080/"
        },
        "outputId": "2e5a8927-6684-47d7-f938-976a0954cd06"
      },
      "execution_count": 27,
      "outputs": [
        {
          "output_type": "stream",
          "name": "stdout",
          "text": [
            "q0: ───X───X───M───\n"
          ]
        }
      ]
    },
    {
      "cell_type": "code",
      "source": [
        "# COMPLETE THIS CODE\n",
        "simulator = cirq.Simulator()\n",
        "results = simulator.run(my_circuit, repetitions=500)\n",
        "print(results.histogram(key=\"q0\"))"
      ],
      "metadata": {
        "id": "daWM7EmeL-97",
        "colab": {
          "base_uri": "https://localhost:8080/"
        },
        "outputId": "7fd1c8a4-3802-491a-dd74-399c71b41e78"
      },
      "execution_count": 28,
      "outputs": [
        {
          "output_type": "stream",
          "name": "stdout",
          "text": [
            "Counter({0: 500})\n"
          ]
        }
      ]
    },
    {
      "cell_type": "markdown",
      "source": [
        "<a name=\"p2\"></a>\n",
        "\n",
        "---\n",
        "## **Part 2: Multi-Qubit Circuits**\n",
        "---"
      ],
      "metadata": {
        "id": "IGDBlZLc8aC8"
      }
    },
    {
      "cell_type": "markdown",
      "source": [
        "###**Problem #2.1**\n",
        "Create three qubits and append a measurement to each qubit. Output your circuit. Simulate the results of your circuit."
      ],
      "metadata": {
        "id": "Ox-TFq4J8bRI"
      }
    },
    {
      "cell_type": "code",
      "source": [
        "# COMPLETE THIS CODE\n",
        "qubits = [cirq.NamedQubit(\"q0\"), cirq.NamedQubit(\"q1\"), cirq.NamedQubit(\"q2\")]\n",
        "my_circuit = cirq.Circuit()\n",
        "my_circuit.append(cirq.measure(*qubits))\n",
        "print(my_circuit)"
      ],
      "metadata": {
        "id": "pbD4F0dRL8hC",
        "colab": {
          "base_uri": "https://localhost:8080/"
        },
        "outputId": "8f43e6e2-bc27-4535-9944-330a60f836cd"
      },
      "execution_count": 30,
      "outputs": [
        {
          "output_type": "stream",
          "name": "stdout",
          "text": [
            "q0: ───M───\n",
            "       │\n",
            "q1: ───M───\n",
            "       │\n",
            "q2: ───M───\n"
          ]
        }
      ]
    },
    {
      "cell_type": "code",
      "source": [
        "# COMPLETE THIS CODE\n",
        "simulator = cirq.Simulator()\n",
        "results = simulator.run(my_circuit, repetitions=1000)\n",
        "print(results)"
      ],
      "metadata": {
        "id": "bUdCuclTL8hD",
        "colab": {
          "base_uri": "https://localhost:8080/"
        },
        "outputId": "59fb9cbe-e364-4d0f-b789-0992b95a0fc4"
      },
      "execution_count": 31,
      "outputs": [
        {
          "output_type": "stream",
          "name": "stdout",
          "text": [
            "q0,q1,q2=0000000000000000000000000000000000000000000000000000000000000000000000000000000000000000000000000000000000000000000000000000000000000000000000000000000000000000000000000000000000000000000000000000000000000000000000000000000000000000000000000000000000000000000000000000000000000000000000000000000000000000000000000000000000000000000000000000000000000000000000000000000000000000000000000000000000000000000000000000000000000000000000000000000000000000000000000000000000000000000000000000000000000000000000000000000000000000000000000000000000000000000000000000000000000000000000000000000000000000000000000000000000000000000000000000000000000000000000000000000000000000000000000000000000000000000000000000000000000000000000000000000000000000000000000000000000000000000000000000000000000000000000000000000000000000000000000000000000000000000000000000000000000000000000000000000000000000000000000000000000000000000000000000000000000000000000000000000000000000000000000000000000000000000000000000000000000000, 0000000000000000000000000000000000000000000000000000000000000000000000000000000000000000000000000000000000000000000000000000000000000000000000000000000000000000000000000000000000000000000000000000000000000000000000000000000000000000000000000000000000000000000000000000000000000000000000000000000000000000000000000000000000000000000000000000000000000000000000000000000000000000000000000000000000000000000000000000000000000000000000000000000000000000000000000000000000000000000000000000000000000000000000000000000000000000000000000000000000000000000000000000000000000000000000000000000000000000000000000000000000000000000000000000000000000000000000000000000000000000000000000000000000000000000000000000000000000000000000000000000000000000000000000000000000000000000000000000000000000000000000000000000000000000000000000000000000000000000000000000000000000000000000000000000000000000000000000000000000000000000000000000000000000000000000000000000000000000000000000000000000000000000000000000000000000000, 0000000000000000000000000000000000000000000000000000000000000000000000000000000000000000000000000000000000000000000000000000000000000000000000000000000000000000000000000000000000000000000000000000000000000000000000000000000000000000000000000000000000000000000000000000000000000000000000000000000000000000000000000000000000000000000000000000000000000000000000000000000000000000000000000000000000000000000000000000000000000000000000000000000000000000000000000000000000000000000000000000000000000000000000000000000000000000000000000000000000000000000000000000000000000000000000000000000000000000000000000000000000000000000000000000000000000000000000000000000000000000000000000000000000000000000000000000000000000000000000000000000000000000000000000000000000000000000000000000000000000000000000000000000000000000000000000000000000000000000000000000000000000000000000000000000000000000000000000000000000000000000000000000000000000000000000000000000000000000000000000000000000000000000000000000000000000000\n"
          ]
        }
      ]
    },
    {
      "cell_type": "markdown",
      "source": [
        "###**Problem #2.2**\n",
        "Create three qubits and append an H gate to each qubit. Output your circuit. Give the ket representation of the final state vectors of your circuit."
      ],
      "metadata": {
        "id": "RO3KfNTM_4RV"
      }
    },
    {
      "cell_type": "code",
      "source": [
        "# COMPLETE THIS CODE\n",
        "qubits = [cirq.NamedQubit(\"q0\"), cirq.NamedQubit(\"q1\"), cirq.NamedQubit(\"q2\")]\n",
        "my_circuit = cirq.Circuit()\n",
        "my_circuit.append(cirq.H(qubit) for qubit in qubits)\n",
        "print(my_circuit)"
      ],
      "metadata": {
        "id": "W-6CsWO-L2yw",
        "colab": {
          "base_uri": "https://localhost:8080/"
        },
        "outputId": "1d49e367-f324-4fc1-b3f4-836d749208c4"
      },
      "execution_count": 32,
      "outputs": [
        {
          "output_type": "stream",
          "name": "stdout",
          "text": [
            "q0: ───H───\n",
            "\n",
            "q1: ───H───\n",
            "\n",
            "q2: ───H───\n"
          ]
        }
      ]
    },
    {
      "cell_type": "code",
      "source": [
        "# COMPLETE THIS CODE\n",
        "simulator = cirq.Simulator()\n",
        "final_state_vector = simulator.simulate(my_circuit).final_state_vector\n",
        "print(final_state_vector)"
      ],
      "metadata": {
        "id": "UmucBCyLL6l7",
        "colab": {
          "base_uri": "https://localhost:8080/"
        },
        "outputId": "5564313a-afac-4ad2-f7b2-623491f89873"
      },
      "execution_count": 33,
      "outputs": [
        {
          "output_type": "stream",
          "name": "stdout",
          "text": [
            "[0.35355335+0.j 0.35355335+0.j 0.35355335+0.j 0.35355335+0.j\n",
            " 0.35355335+0.j 0.35355335+0.j 0.35355335+0.j 0.35355335+0.j]\n"
          ]
        }
      ]
    },
    {
      "cell_type": "markdown",
      "source": [
        "###**Problem #2.3**\n",
        "Create three qubits and append an H gate to the first qubit, an X gate to the second, and a Z gate to the third. Output your circuit."
      ],
      "metadata": {
        "id": "5YkhDdBtAvLM"
      }
    },
    {
      "cell_type": "code",
      "source": [
        "# COMPLETE THIS CODE\n",
        "qubits = [cirq.NamedQubit(\"q0\"), cirq.NamedQubit(\"q1\"), cirq.NamedQubit(\"q2\")]\n",
        "\n",
        "# Step 2: Create a circuit and append an H gate to the first qubit, an X gate to the second, and a Z gate to the third\n",
        "my_circuit = cirq.Circuit()\n",
        "my_circuit.append(cirq.H(qubits[0]))\n",
        "my_circuit.append(cirq.X(qubits[1]))\n",
        "my_circuit.append(cirq.Z(qubits[2]))\n",
        "\n",
        "print(my_circuit)"
      ],
      "metadata": {
        "id": "s0Wui09KL1DD",
        "colab": {
          "base_uri": "https://localhost:8080/"
        },
        "outputId": "757fd018-a150-4296-c2ac-49a089f3e828"
      },
      "execution_count": 34,
      "outputs": [
        {
          "output_type": "stream",
          "name": "stdout",
          "text": [
            "q0: ───H───\n",
            "\n",
            "q1: ───X───\n",
            "\n",
            "q2: ───Z───\n"
          ]
        }
      ]
    },
    {
      "cell_type": "markdown",
      "source": [
        "###**Problem #2.4**\n",
        "Using the same circuit as Problem #2.3, append a Z gate to the first qubit, an H gate to the second, and an X gate to the third. Output your circuit."
      ],
      "metadata": {
        "id": "6cwoGk80BYIJ"
      }
    },
    {
      "cell_type": "code",
      "source": [
        "# COMPLETE THIS CODE\n",
        "my_circuit.append(cirq.Z(qubits[0]))\n",
        "my_circuit.append(cirq.H(qubits[1]))\n",
        "my_circuit.append(cirq.X(qubits[2]))\n",
        "\n",
        "print(\"Quantum Circuit:\")\n",
        "print(my_circuit)"
      ],
      "metadata": {
        "id": "CzvO4CVaLzTH",
        "colab": {
          "base_uri": "https://localhost:8080/"
        },
        "outputId": "ee9a6c69-02fc-4365-8357-bfb0fdd1a8f2"
      },
      "execution_count": 35,
      "outputs": [
        {
          "output_type": "stream",
          "name": "stdout",
          "text": [
            "Quantum Circuit:\n",
            "q0: ───H───Z───\n",
            "\n",
            "q1: ───X───H───\n",
            "\n",
            "q2: ───Z───X───\n"
          ]
        }
      ]
    },
    {
      "cell_type": "markdown",
      "source": [
        "###**Problem #2.5**\n",
        "Using the same circuit as Problem #2.4, append an X gate to the first qubit, a Z gate to the second, and an H gate to the third. Finally, append a measurement to each qubit. Output your circuit. Simulate the results of your circuit 10,000 times and create a histogram of the results.\n",
        "\n",
        "<br>\n",
        "\n",
        "**NOTE**: If you want to rerun your solution to this problem, you will need to rerun your solutions to Problems #2.3 - 2.4 first."
      ],
      "metadata": {
        "id": "KupbdzKWBn6o"
      }
    },
    {
      "cell_type": "code",
      "source": [
        "# COMPLETE THIS CODE\n",
        "qubits = [cirq.NamedQubit(\"q0\"), cirq.NamedQubit(\"q1\"), cirq.NamedQubit(\"q2\")]\n",
        "\n",
        "# Step 2: Create a circuit and append gates to each qubit\n",
        "my_circuit = cirq.Circuit()\n",
        "my_circuit.append(cirq.H(qubits[0]))\n",
        "my_circuit.append(cirq.X(qubits[1]))\n",
        "my_circuit.append(cirq.Z(qubits[2]))\n",
        "\n",
        "# Append additional gates as specified in the problem\n",
        "my_circuit.append(cirq.Z(qubits[0]))\n",
        "my_circuit.append(cirq.H(qubits[1]))\n",
        "my_circuit.append(cirq.X(qubits[2]))\n",
        "\n",
        "# Append more gates as specified in the problem\n",
        "my_circuit.append(cirq.X(qubits[0]))\n",
        "my_circuit.append(cirq.Z(qubits[1]))\n",
        "my_circuit.append(cirq.H(qubits[2]))\n",
        "\n",
        "# Append measurements to each qubit\n",
        "my_circuit.append(cirq.measure(*qubits))\n",
        "\n",
        "# Step 3: Output your circuit\n",
        "print(\"Quantum Circuit:\")\n",
        "print(my_circuit)\n",
        "\n",
        "# Step 4: Simulate the results of your circuit 10,000 times and create a histogram\n",
        "simulator = cirq.Simulator()\n",
        "results = simulator.run(my_circuit, repetitions=10000)\n",
        "\n",
        "# Output the results histogram\n",
        "print(\"\\nMeasurement Results (Histogram):\")\n",
        "print(results.histogram(key=[str(qubit) for qubit in qubits]))"
      ],
      "metadata": {
        "id": "O66xctf0LxMF",
        "colab": {
          "base_uri": "https://localhost:8080/"
        },
        "outputId": "d8279da6-282e-40ab-e860-bd82f95082f9"
      },
      "execution_count": 36,
      "outputs": [
        {
          "output_type": "stream",
          "name": "stdout",
          "text": [
            "Quantum Circuit:\n",
            "q0: ───H───Z───X───M───\n",
            "                   │\n",
            "q1: ───X───H───Z───M───\n",
            "                   │\n",
            "q2: ───Z───X───H───M───\n",
            "\n",
            "Measurement Results (Histogram):\n",
            "Counter({7: 1307, 1: 1290, 2: 1260, 4: 1255, 6: 1247, 0: 1226, 5: 1223, 3: 1192})\n"
          ]
        }
      ]
    },
    {
      "cell_type": "code",
      "source": [
        "# COMPLETE THIS CODE"
      ],
      "metadata": {
        "id": "A-dlOn-TLxMT"
      },
      "execution_count": null,
      "outputs": []
    },
    {
      "cell_type": "markdown",
      "source": [
        "###**Problem #2.6**\n",
        "\n",
        "Create two qubits. Create a circuit and add a CNOT gate such the the first qubit is the control and the second is the target. Output your circuit. Print out the ket representation of your circuit's final state."
      ],
      "metadata": {
        "id": "m1R6_DnvC7XS"
      }
    },
    {
      "cell_type": "code",
      "source": [
        "# COMPLETE THIS CODE\n",
        "qubits = [cirq.NamedQubit(\"q0\"), cirq.NamedQubit(\"q1\")]\n",
        "\n",
        "# Step 2: Create a circuit and add a CNOT gate with the first qubit as the control and the second as the target\n",
        "my_circuit = cirq.Circuit()\n",
        "my_circuit.append(cirq.CNOT(qubits[0], qubits[1]))\n",
        "\n",
        "# Step 3: Output your circuit\n",
        "print(\"Quantum Circuit:\")\n",
        "print(my_circuit)\n",
        "\n",
        "# Step 4: Get the ket representation of the final state\n",
        "simulator = cirq.Simulator()\n",
        "final_state_vector = simulator.simulate(my_circuit).final_state_vector"
      ],
      "metadata": {
        "id": "ihDsThOJmyw3",
        "colab": {
          "base_uri": "https://localhost:8080/"
        },
        "outputId": "774a71a7-1ac4-41d7-cd34-d164f8c0dbad"
      },
      "execution_count": 37,
      "outputs": [
        {
          "output_type": "stream",
          "name": "stdout",
          "text": [
            "Quantum Circuit:\n",
            "q0: ───@───\n",
            "       │\n",
            "q1: ───X───\n"
          ]
        }
      ]
    },
    {
      "cell_type": "code",
      "source": [
        "# COMPLETE THIS CODE"
      ],
      "metadata": {
        "id": "IGfWX6idmyoa"
      },
      "execution_count": null,
      "outputs": []
    },
    {
      "cell_type": "markdown",
      "source": [
        "###**Problem #2.7**\n",
        "\n",
        "Create two qubits. Create a circuit and add an H gate to the first qubit, an X gate to the second qubit, then a CNOT gate such the the first qubit is the control and the second is the target. Measure both qubits in the end. Output your circuit. Simulate the results of your circuit 10000 times and create a histogram of the results."
      ],
      "metadata": {
        "id": "yqGfWFBKHBkv"
      }
    },
    {
      "cell_type": "code",
      "source": [
        "# COMPLETE THIS CODE\n",
        "# Step 1: Create two qubits\n",
        "qubits = [cirq.NamedQubit(\"q0\"), cirq.NamedQubit(\"q1\")]\n",
        "\n",
        "# Step 2: Create a circuit and add gates to each qubit and a CNOT gate\n",
        "my_circuit = cirq.Circuit()\n",
        "my_circuit.append(cirq.H(qubits[0]))\n",
        "my_circuit.append(cirq.X(qubits[1]))\n",
        "my_circuit.append(cirq.CNOT(qubits[0], qubits[1]))\n",
        "\n",
        "# Measure both qubits\n",
        "my_circuit.append(cirq.measure(*qubits))\n",
        "\n",
        "# Step 3: Output your circuit\n",
        "print(\"Quantum Circuit:\")\n",
        "print(my_circuit)\n",
        "\n",
        "# Step 4: Simulate the results of your circuit 10,000 times and create a histogram\n",
        "simulator = cirq.Simulator()\n",
        "results = simulator.run(my_circuit, repetitions=10000)\n",
        "\n",
        "# Output the results histogram\n",
        "print(\"\\nMeasurement Results (Histogram):\")\n",
        "print(results.histogram(key=[str(qubit) for qubit in qubits]))"
      ],
      "metadata": {
        "id": "FRan1ev5HBkw",
        "colab": {
          "base_uri": "https://localhost:8080/"
        },
        "outputId": "34e19280-e0c7-4541-ec5f-ee7ef0f2a748"
      },
      "execution_count": 38,
      "outputs": [
        {
          "output_type": "stream",
          "name": "stdout",
          "text": [
            "Quantum Circuit:\n",
            "q0: ───H───@───M───\n",
            "           │   │\n",
            "q1: ───X───X───M───\n",
            "\n",
            "Measurement Results (Histogram):\n",
            "Counter({2: 5013, 1: 4987})\n"
          ]
        }
      ]
    },
    {
      "cell_type": "code",
      "source": [
        "# COMPLETE THIS CODE"
      ],
      "metadata": {
        "id": "tK8_-nR6HBkx"
      },
      "execution_count": null,
      "outputs": []
    },
    {
      "cell_type": "markdown",
      "source": [
        "#End of notebook\n",
        "---\n",
        "© 2023 The Coding School, All rights reserved"
      ],
      "metadata": {
        "id": "KJKDKEjJ3gEw"
      }
    }
  ]
}