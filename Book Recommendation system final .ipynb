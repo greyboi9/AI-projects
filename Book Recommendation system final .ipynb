{
 "cells": [
  {
   "cell_type": "code",
   "execution_count": null,
   "id": "f5b677bc",
   "metadata": {},
   "outputs": [],
   "source": []
  },
  {
   "cell_type": "code",
   "execution_count": 1,
   "id": "1abd4756",
   "metadata": {},
   "outputs": [],
   "source": [
    "import warnings\n",
    "warnings.filterwarnings('ignore')\n",
    "\n",
    "\n",
    "\n",
    "import pandas as pd\n",
    "import numpy as np\n",
    "import seaborn as sns\n",
    "import matplotlib.pyplot as plt\n",
    "\n",
    "from scipy import stats"
   ]
  },
  {
   "cell_type": "code",
   "execution_count": 2,
   "id": "0cbdde6f",
   "metadata": {},
   "outputs": [],
   "source": [
    "pd.options.display.float_format = '{:.2f}'.format\n",
    "r = pd.read_csv('Ratings.csv')\n",
    "b = pd.read_csv('Books.csv')"
   ]
  },
  {
   "cell_type": "code",
   "execution_count": 3,
   "id": "7d3b6e9e",
   "metadata": {},
   "outputs": [
    {
     "data": {
      "text/html": [
       "<div>\n",
       "<style scoped>\n",
       "    .dataframe tbody tr th:only-of-type {\n",
       "        vertical-align: middle;\n",
       "    }\n",
       "\n",
       "    .dataframe tbody tr th {\n",
       "        vertical-align: top;\n",
       "    }\n",
       "\n",
       "    .dataframe thead th {\n",
       "        text-align: right;\n",
       "    }\n",
       "</style>\n",
       "<table border=\"1\" class=\"dataframe\">\n",
       "  <thead>\n",
       "    <tr style=\"text-align: right;\">\n",
       "      <th></th>\n",
       "      <th>User-ID</th>\n",
       "      <th>ISBN</th>\n",
       "      <th>Book-Rating</th>\n",
       "    </tr>\n",
       "  </thead>\n",
       "  <tbody>\n",
       "    <tr>\n",
       "      <th>0</th>\n",
       "      <td>276725</td>\n",
       "      <td>034545104X</td>\n",
       "      <td>0</td>\n",
       "    </tr>\n",
       "    <tr>\n",
       "      <th>1</th>\n",
       "      <td>276726</td>\n",
       "      <td>0155061224</td>\n",
       "      <td>5</td>\n",
       "    </tr>\n",
       "    <tr>\n",
       "      <th>2</th>\n",
       "      <td>276727</td>\n",
       "      <td>0446520802</td>\n",
       "      <td>0</td>\n",
       "    </tr>\n",
       "    <tr>\n",
       "      <th>3</th>\n",
       "      <td>276729</td>\n",
       "      <td>052165615X</td>\n",
       "      <td>3</td>\n",
       "    </tr>\n",
       "    <tr>\n",
       "      <th>4</th>\n",
       "      <td>276729</td>\n",
       "      <td>0521795028</td>\n",
       "      <td>6</td>\n",
       "    </tr>\n",
       "  </tbody>\n",
       "</table>\n",
       "</div>"
      ],
      "text/plain": [
       "   User-ID        ISBN  Book-Rating\n",
       "0   276725  034545104X            0\n",
       "1   276726  0155061224            5\n",
       "2   276727  0446520802            0\n",
       "3   276729  052165615X            3\n",
       "4   276729  0521795028            6"
      ]
     },
     "execution_count": 3,
     "metadata": {},
     "output_type": "execute_result"
    }
   ],
   "source": [
    "#Rating\n",
    "r.head()"
   ]
  },
  {
   "cell_type": "code",
   "execution_count": 4,
   "id": "20c97ee7",
   "metadata": {},
   "outputs": [
    {
     "data": {
      "text/plain": [
       "(1149780, 3)"
      ]
     },
     "execution_count": 4,
     "metadata": {},
     "output_type": "execute_result"
    }
   ],
   "source": [
    "r.shape"
   ]
  },
  {
   "cell_type": "code",
   "execution_count": 5,
   "id": "59518cf7",
   "metadata": {},
   "outputs": [
    {
     "name": "stdout",
     "output_type": "stream",
     "text": [
      "Number of User-ID is 105283\n",
      "Number of ISBN is 340556\n",
      "Number of Book-Rating is 11\n"
     ]
    }
   ],
   "source": [
    "for col in r.columns:\n",
    "    print(f\"Number of {col} is {r[col].nunique()}\")"
   ]
  },
  {
   "cell_type": "code",
   "execution_count": 6,
   "id": "3d1ad887",
   "metadata": {},
   "outputs": [
    {
     "data": {
      "text/plain": [
       "(271360, 8)"
      ]
     },
     "execution_count": 6,
     "metadata": {},
     "output_type": "execute_result"
    }
   ],
   "source": [
    "#Books\n",
    "b.shape"
   ]
  },
  {
   "cell_type": "code",
   "execution_count": 7,
   "id": "cec5377e",
   "metadata": {},
   "outputs": [
    {
     "data": {
      "text/html": [
       "<div>\n",
       "<style scoped>\n",
       "    .dataframe tbody tr th:only-of-type {\n",
       "        vertical-align: middle;\n",
       "    }\n",
       "\n",
       "    .dataframe tbody tr th {\n",
       "        vertical-align: top;\n",
       "    }\n",
       "\n",
       "    .dataframe thead th {\n",
       "        text-align: right;\n",
       "    }\n",
       "</style>\n",
       "<table border=\"1\" class=\"dataframe\">\n",
       "  <thead>\n",
       "    <tr style=\"text-align: right;\">\n",
       "      <th></th>\n",
       "      <th>0</th>\n",
       "      <th>1</th>\n",
       "      <th>2</th>\n",
       "      <th>3</th>\n",
       "    </tr>\n",
       "  </thead>\n",
       "  <tbody>\n",
       "    <tr>\n",
       "      <th>ISBN</th>\n",
       "      <td>0195153448</td>\n",
       "      <td>0002005018</td>\n",
       "      <td>0060973129</td>\n",
       "      <td>0374157065</td>\n",
       "    </tr>\n",
       "    <tr>\n",
       "      <th>Book-Title</th>\n",
       "      <td>Classical Mythology</td>\n",
       "      <td>Clara Callan</td>\n",
       "      <td>Decision in Normandy</td>\n",
       "      <td>Flu: The Story of the Great Influenza Pandemic...</td>\n",
       "    </tr>\n",
       "    <tr>\n",
       "      <th>Book-Author</th>\n",
       "      <td>Mark P. O. Morford</td>\n",
       "      <td>Richard Bruce Wright</td>\n",
       "      <td>Carlo D'Este</td>\n",
       "      <td>Gina Bari Kolata</td>\n",
       "    </tr>\n",
       "    <tr>\n",
       "      <th>Year-Of-Publication</th>\n",
       "      <td>2002</td>\n",
       "      <td>2001</td>\n",
       "      <td>1991</td>\n",
       "      <td>1999</td>\n",
       "    </tr>\n",
       "    <tr>\n",
       "      <th>Publisher</th>\n",
       "      <td>Oxford University Press</td>\n",
       "      <td>HarperFlamingo Canada</td>\n",
       "      <td>HarperPerennial</td>\n",
       "      <td>Farrar Straus Giroux</td>\n",
       "    </tr>\n",
       "    <tr>\n",
       "      <th>Image-URL-S</th>\n",
       "      <td>http://images.amazon.com/images/P/0195153448.0...</td>\n",
       "      <td>http://images.amazon.com/images/P/0002005018.0...</td>\n",
       "      <td>http://images.amazon.com/images/P/0060973129.0...</td>\n",
       "      <td>http://images.amazon.com/images/P/0374157065.0...</td>\n",
       "    </tr>\n",
       "    <tr>\n",
       "      <th>Image-URL-M</th>\n",
       "      <td>http://images.amazon.com/images/P/0195153448.0...</td>\n",
       "      <td>http://images.amazon.com/images/P/0002005018.0...</td>\n",
       "      <td>http://images.amazon.com/images/P/0060973129.0...</td>\n",
       "      <td>http://images.amazon.com/images/P/0374157065.0...</td>\n",
       "    </tr>\n",
       "    <tr>\n",
       "      <th>Image-URL-L</th>\n",
       "      <td>http://images.amazon.com/images/P/0195153448.0...</td>\n",
       "      <td>http://images.amazon.com/images/P/0002005018.0...</td>\n",
       "      <td>http://images.amazon.com/images/P/0060973129.0...</td>\n",
       "      <td>http://images.amazon.com/images/P/0374157065.0...</td>\n",
       "    </tr>\n",
       "  </tbody>\n",
       "</table>\n",
       "</div>"
      ],
      "text/plain": [
       "                                                                     0  \\\n",
       "ISBN                                                        0195153448   \n",
       "Book-Title                                         Classical Mythology   \n",
       "Book-Author                                         Mark P. O. Morford   \n",
       "Year-Of-Publication                                               2002   \n",
       "Publisher                                      Oxford University Press   \n",
       "Image-URL-S          http://images.amazon.com/images/P/0195153448.0...   \n",
       "Image-URL-M          http://images.amazon.com/images/P/0195153448.0...   \n",
       "Image-URL-L          http://images.amazon.com/images/P/0195153448.0...   \n",
       "\n",
       "                                                                     1  \\\n",
       "ISBN                                                        0002005018   \n",
       "Book-Title                                                Clara Callan   \n",
       "Book-Author                                       Richard Bruce Wright   \n",
       "Year-Of-Publication                                               2001   \n",
       "Publisher                                        HarperFlamingo Canada   \n",
       "Image-URL-S          http://images.amazon.com/images/P/0002005018.0...   \n",
       "Image-URL-M          http://images.amazon.com/images/P/0002005018.0...   \n",
       "Image-URL-L          http://images.amazon.com/images/P/0002005018.0...   \n",
       "\n",
       "                                                                     2  \\\n",
       "ISBN                                                        0060973129   \n",
       "Book-Title                                        Decision in Normandy   \n",
       "Book-Author                                               Carlo D'Este   \n",
       "Year-Of-Publication                                               1991   \n",
       "Publisher                                              HarperPerennial   \n",
       "Image-URL-S          http://images.amazon.com/images/P/0060973129.0...   \n",
       "Image-URL-M          http://images.amazon.com/images/P/0060973129.0...   \n",
       "Image-URL-L          http://images.amazon.com/images/P/0060973129.0...   \n",
       "\n",
       "                                                                     3  \n",
       "ISBN                                                        0374157065  \n",
       "Book-Title           Flu: The Story of the Great Influenza Pandemic...  \n",
       "Book-Author                                           Gina Bari Kolata  \n",
       "Year-Of-Publication                                               1999  \n",
       "Publisher                                         Farrar Straus Giroux  \n",
       "Image-URL-S          http://images.amazon.com/images/P/0374157065.0...  \n",
       "Image-URL-M          http://images.amazon.com/images/P/0374157065.0...  \n",
       "Image-URL-L          http://images.amazon.com/images/P/0374157065.0...  "
      ]
     },
     "execution_count": 7,
     "metadata": {},
     "output_type": "execute_result"
    }
   ],
   "source": [
    "b.head(4).T"
   ]
  },
  {
   "cell_type": "code",
   "execution_count": 8,
   "id": "a9e2a802",
   "metadata": {},
   "outputs": [
    {
     "name": "stdout",
     "output_type": "stream",
     "text": [
      "False\n",
      "True\n"
     ]
    }
   ],
   "source": [
    "#check missing value\n",
    "dataset = [r, b]\n",
    "for data in dataset:\n",
    "    print(data.isnull().values.any())"
   ]
  },
  {
   "cell_type": "code",
   "execution_count": 9,
   "id": "0524b6b0",
   "metadata": {},
   "outputs": [
    {
     "name": "stdout",
     "output_type": "stream",
     "text": [
      "False\n",
      "False\n"
     ]
    }
   ],
   "source": [
    "#check duplicated rows\n",
    "for data in dataset:\n",
    "    print(data.duplicated().values.any())"
   ]
  },
  {
   "cell_type": "code",
   "execution_count": 10,
   "id": "6c97c40c",
   "metadata": {},
   "outputs": [],
   "source": [
    "#There is no duplicate row in both dataset, but we have missing value in book metadata."
   ]
  },
  {
   "cell_type": "code",
   "execution_count": 11,
   "id": "3fa50e3b",
   "metadata": {},
   "outputs": [],
   "source": [
    "#make a copy \n",
    "books = b.copy()"
   ]
  },
  {
   "cell_type": "code",
   "execution_count": 12,
   "id": "9a006f74",
   "metadata": {},
   "outputs": [
    {
     "data": {
      "text/html": [
       "<div>\n",
       "<style scoped>\n",
       "    .dataframe tbody tr th:only-of-type {\n",
       "        vertical-align: middle;\n",
       "    }\n",
       "\n",
       "    .dataframe tbody tr th {\n",
       "        vertical-align: top;\n",
       "    }\n",
       "\n",
       "    .dataframe thead th {\n",
       "        text-align: right;\n",
       "    }\n",
       "</style>\n",
       "<table border=\"1\" class=\"dataframe\">\n",
       "  <thead>\n",
       "    <tr style=\"text-align: right;\">\n",
       "      <th></th>\n",
       "      <th>percent_missing</th>\n",
       "    </tr>\n",
       "  </thead>\n",
       "  <tbody>\n",
       "    <tr>\n",
       "      <th>Image-URL-L</th>\n",
       "      <td>0.00</td>\n",
       "    </tr>\n",
       "    <tr>\n",
       "      <th>Publisher</th>\n",
       "      <td>0.00</td>\n",
       "    </tr>\n",
       "    <tr>\n",
       "      <th>Book-Author</th>\n",
       "      <td>0.00</td>\n",
       "    </tr>\n",
       "  </tbody>\n",
       "</table>\n",
       "</div>"
      ],
      "text/plain": [
       "             percent_missing\n",
       "Image-URL-L             0.00\n",
       "Publisher               0.00\n",
       "Book-Author             0.00"
      ]
     },
     "execution_count": 12,
     "metadata": {},
     "output_type": "execute_result"
    }
   ],
   "source": [
    "percent_missing = books.isnull().sum() * 100 / len(books)\n",
    "missing_value = (pd.DataFrame({'percent_missing': percent_missing})).sort_values(by=['percent_missing'], ascending=False)\n",
    "missing_value[missing_value['percent_missing']>0]"
   ]
  },
  {
   "cell_type": "code",
   "execution_count": 13,
   "id": "ce449e7d",
   "metadata": {},
   "outputs": [],
   "source": [
    "#keep important columns, drop the rest\n",
    "cols_to_keep = ['ISBN', 'Book-Title', 'Book-Author', 'Year-Of-Publication', 'Publisher', 'Image-URL-S', 'Image-URL-M', 'Image-URL-L']\n",
    "books = books[cols_to_keep]"
   ]
  },
  {
   "cell_type": "code",
   "execution_count": 14,
   "id": "3af98e9f",
   "metadata": {},
   "outputs": [
    {
     "data": {
      "text/html": [
       "<div>\n",
       "<style scoped>\n",
       "    .dataframe tbody tr th:only-of-type {\n",
       "        vertical-align: middle;\n",
       "    }\n",
       "\n",
       "    .dataframe tbody tr th {\n",
       "        vertical-align: top;\n",
       "    }\n",
       "\n",
       "    .dataframe thead th {\n",
       "        text-align: right;\n",
       "    }\n",
       "</style>\n",
       "<table border=\"1\" class=\"dataframe\">\n",
       "  <thead>\n",
       "    <tr style=\"text-align: right;\">\n",
       "      <th></th>\n",
       "      <th>ISBN</th>\n",
       "      <th>Book-Title</th>\n",
       "      <th>Book-Author</th>\n",
       "      <th>Year-Of-Publication</th>\n",
       "      <th>Publisher</th>\n",
       "      <th>Image-URL-S</th>\n",
       "      <th>Image-URL-M</th>\n",
       "      <th>Image-URL-L</th>\n",
       "    </tr>\n",
       "  </thead>\n",
       "  <tbody>\n",
       "    <tr>\n",
       "      <th>0</th>\n",
       "      <td>0195153448</td>\n",
       "      <td>Classical Mythology</td>\n",
       "      <td>Mark P. O. Morford</td>\n",
       "      <td>2002</td>\n",
       "      <td>Oxford University Press</td>\n",
       "      <td>http://images.amazon.com/images/P/0195153448.01.THUMBZZZ.jpg</td>\n",
       "      <td>http://images.amazon.com/images/P/0195153448.01.MZZZZZZZ.jpg</td>\n",
       "      <td>http://images.amazon.com/images/P/0195153448.01.LZZZZZZZ.jpg</td>\n",
       "    </tr>\n",
       "    <tr>\n",
       "      <th>1</th>\n",
       "      <td>0002005018</td>\n",
       "      <td>Clara Callan</td>\n",
       "      <td>Richard Bruce Wright</td>\n",
       "      <td>2001</td>\n",
       "      <td>HarperFlamingo Canada</td>\n",
       "      <td>http://images.amazon.com/images/P/0002005018.01.THUMBZZZ.jpg</td>\n",
       "      <td>http://images.amazon.com/images/P/0002005018.01.MZZZZZZZ.jpg</td>\n",
       "      <td>http://images.amazon.com/images/P/0002005018.01.LZZZZZZZ.jpg</td>\n",
       "    </tr>\n",
       "    <tr>\n",
       "      <th>2</th>\n",
       "      <td>0060973129</td>\n",
       "      <td>Decision in Normandy</td>\n",
       "      <td>Carlo D'Este</td>\n",
       "      <td>1991</td>\n",
       "      <td>HarperPerennial</td>\n",
       "      <td>http://images.amazon.com/images/P/0060973129.01.THUMBZZZ.jpg</td>\n",
       "      <td>http://images.amazon.com/images/P/0060973129.01.MZZZZZZZ.jpg</td>\n",
       "      <td>http://images.amazon.com/images/P/0060973129.01.LZZZZZZZ.jpg</td>\n",
       "    </tr>\n",
       "    <tr>\n",
       "      <th>3</th>\n",
       "      <td>0374157065</td>\n",
       "      <td>Flu: The Story of the Great Influenza Pandemic of 1918 and the Search for the Virus That Caused It</td>\n",
       "      <td>Gina Bari Kolata</td>\n",
       "      <td>1999</td>\n",
       "      <td>Farrar Straus Giroux</td>\n",
       "      <td>http://images.amazon.com/images/P/0374157065.01.THUMBZZZ.jpg</td>\n",
       "      <td>http://images.amazon.com/images/P/0374157065.01.MZZZZZZZ.jpg</td>\n",
       "      <td>http://images.amazon.com/images/P/0374157065.01.LZZZZZZZ.jpg</td>\n",
       "    </tr>\n",
       "    <tr>\n",
       "      <th>4</th>\n",
       "      <td>0393045218</td>\n",
       "      <td>The Mummies of Urumchi</td>\n",
       "      <td>E. J. W. Barber</td>\n",
       "      <td>1999</td>\n",
       "      <td>W. W. Norton &amp;amp; Company</td>\n",
       "      <td>http://images.amazon.com/images/P/0393045218.01.THUMBZZZ.jpg</td>\n",
       "      <td>http://images.amazon.com/images/P/0393045218.01.MZZZZZZZ.jpg</td>\n",
       "      <td>http://images.amazon.com/images/P/0393045218.01.LZZZZZZZ.jpg</td>\n",
       "    </tr>\n",
       "  </tbody>\n",
       "</table>\n",
       "</div>"
      ],
      "text/plain": [
       "         ISBN  \\\n",
       "0  0195153448   \n",
       "1  0002005018   \n",
       "2  0060973129   \n",
       "3  0374157065   \n",
       "4  0393045218   \n",
       "\n",
       "                                                                                           Book-Title  \\\n",
       "0                                                                                 Classical Mythology   \n",
       "1                                                                                        Clara Callan   \n",
       "2                                                                                Decision in Normandy   \n",
       "3  Flu: The Story of the Great Influenza Pandemic of 1918 and the Search for the Virus That Caused It   \n",
       "4                                                                              The Mummies of Urumchi   \n",
       "\n",
       "            Book-Author Year-Of-Publication                   Publisher  \\\n",
       "0    Mark P. O. Morford                2002     Oxford University Press   \n",
       "1  Richard Bruce Wright                2001       HarperFlamingo Canada   \n",
       "2          Carlo D'Este                1991             HarperPerennial   \n",
       "3      Gina Bari Kolata                1999        Farrar Straus Giroux   \n",
       "4       E. J. W. Barber                1999  W. W. Norton &amp; Company   \n",
       "\n",
       "                                                    Image-URL-S  \\\n",
       "0  http://images.amazon.com/images/P/0195153448.01.THUMBZZZ.jpg   \n",
       "1  http://images.amazon.com/images/P/0002005018.01.THUMBZZZ.jpg   \n",
       "2  http://images.amazon.com/images/P/0060973129.01.THUMBZZZ.jpg   \n",
       "3  http://images.amazon.com/images/P/0374157065.01.THUMBZZZ.jpg   \n",
       "4  http://images.amazon.com/images/P/0393045218.01.THUMBZZZ.jpg   \n",
       "\n",
       "                                                    Image-URL-M  \\\n",
       "0  http://images.amazon.com/images/P/0195153448.01.MZZZZZZZ.jpg   \n",
       "1  http://images.amazon.com/images/P/0002005018.01.MZZZZZZZ.jpg   \n",
       "2  http://images.amazon.com/images/P/0060973129.01.MZZZZZZZ.jpg   \n",
       "3  http://images.amazon.com/images/P/0374157065.01.MZZZZZZZ.jpg   \n",
       "4  http://images.amazon.com/images/P/0393045218.01.MZZZZZZZ.jpg   \n",
       "\n",
       "                                                    Image-URL-L  \n",
       "0  http://images.amazon.com/images/P/0195153448.01.LZZZZZZZ.jpg  \n",
       "1  http://images.amazon.com/images/P/0002005018.01.LZZZZZZZ.jpg  \n",
       "2  http://images.amazon.com/images/P/0060973129.01.LZZZZZZZ.jpg  \n",
       "3  http://images.amazon.com/images/P/0374157065.01.LZZZZZZZ.jpg  \n",
       "4  http://images.amazon.com/images/P/0393045218.01.LZZZZZZZ.jpg  "
      ]
     },
     "metadata": {},
     "output_type": "display_data"
    }
   ],
   "source": [
    "#display max column\n",
    "with pd.option_context('display.max_colwidth', None):\n",
    "    display(books.head(5))"
   ]
  },
  {
   "cell_type": "code",
   "execution_count": 15,
   "id": "054a7036",
   "metadata": {},
   "outputs": [
    {
     "name": "stdout",
     "output_type": "stream",
     "text": [
      "Index(['ISBN', 'Book-Title', 'Book-Author', 'Year-Of-Publication', 'Publisher',\n",
      "       'Image-URL-S', 'Image-URL-M', 'Image-URL-L'],\n",
      "      dtype='object')\n"
     ]
    }
   ],
   "source": [
    "\n",
    "print(books.columns)"
   ]
  },
  {
   "cell_type": "code",
   "execution_count": 16,
   "id": "0c0109cc",
   "metadata": {},
   "outputs": [
    {
     "name": "stdout",
     "output_type": "stream",
     "text": [
      "Index(['User-ID', 'ISBN', 'Book-Rating'], dtype='object')\n"
     ]
    }
   ],
   "source": [
    "print(r.columns)"
   ]
  },
  {
   "cell_type": "code",
   "execution_count": 17,
   "id": "cc08c7bc",
   "metadata": {},
   "outputs": [
    {
     "data": {
      "image/png": "[encoded data removed]",
      "text/plain": [
       "<Figure size 1000x800 with 1 Axes>"
      ]
     },
     "metadata": {},
     "output_type": "display_data"
    }
   ],
   "source": [
    "plt.figure(figsize=(10,8))\n",
    "sns.distplot(r['Book-Rating'], color = '#0047AB')\n",
    "plt.title('Distribution of Rating', weight='bold', fontsize =20)\n",
    "plt.xlabel('Book-Rating', fontsize=18)\n",
    "plt.ylabel('Density', fontsize=18)\n",
    "plt.xticks(fontsize=12)\n",
    "plt.yticks(fontsize=12)\n",
    "plt.show()"
   ]
  },
  {
   "cell_type": "code",
   "execution_count": 18,
   "id": "3a7650df",
   "metadata": {},
   "outputs": [
    {
     "data": {
      "text/html": [
       "<div>\n",
       "<style scoped>\n",
       "    .dataframe tbody tr th:only-of-type {\n",
       "        vertical-align: middle;\n",
       "    }\n",
       "\n",
       "    .dataframe tbody tr th {\n",
       "        vertical-align: top;\n",
       "    }\n",
       "\n",
       "    .dataframe thead th {\n",
       "        text-align: right;\n",
       "    }\n",
       "</style>\n",
       "<table border=\"1\" class=\"dataframe\">\n",
       "  <thead>\n",
       "    <tr style=\"text-align: right;\">\n",
       "      <th></th>\n",
       "      <th>User-ID</th>\n",
       "      <th>Book-Rating</th>\n",
       "    </tr>\n",
       "  </thead>\n",
       "  <tbody>\n",
       "    <tr>\n",
       "      <th>count</th>\n",
       "      <td>1149780.00</td>\n",
       "      <td>1149780.00</td>\n",
       "    </tr>\n",
       "    <tr>\n",
       "      <th>mean</th>\n",
       "      <td>140386.40</td>\n",
       "      <td>2.87</td>\n",
       "    </tr>\n",
       "    <tr>\n",
       "      <th>std</th>\n",
       "      <td>80562.28</td>\n",
       "      <td>3.85</td>\n",
       "    </tr>\n",
       "    <tr>\n",
       "      <th>min</th>\n",
       "      <td>2.00</td>\n",
       "      <td>0.00</td>\n",
       "    </tr>\n",
       "    <tr>\n",
       "      <th>25%</th>\n",
       "      <td>70345.00</td>\n",
       "      <td>0.00</td>\n",
       "    </tr>\n",
       "    <tr>\n",
       "      <th>50%</th>\n",
       "      <td>141010.00</td>\n",
       "      <td>0.00</td>\n",
       "    </tr>\n",
       "    <tr>\n",
       "      <th>75%</th>\n",
       "      <td>211028.00</td>\n",
       "      <td>7.00</td>\n",
       "    </tr>\n",
       "    <tr>\n",
       "      <th>max</th>\n",
       "      <td>278854.00</td>\n",
       "      <td>10.00</td>\n",
       "    </tr>\n",
       "  </tbody>\n",
       "</table>\n",
       "</div>"
      ],
      "text/plain": [
       "         User-ID  Book-Rating\n",
       "count 1149780.00   1149780.00\n",
       "mean   140386.40         2.87\n",
       "std     80562.28         3.85\n",
       "min         2.00         0.00\n",
       "25%     70345.00         0.00\n",
       "50%    141010.00         0.00\n",
       "75%    211028.00         7.00\n",
       "max    278854.00        10.00"
      ]
     },
     "execution_count": 18,
     "metadata": {},
     "output_type": "execute_result"
    }
   ],
   "source": [
    "r.describe()"
   ]
  },
  {
   "cell_type": "code",
   "execution_count": 19,
   "id": "fb087954",
   "metadata": {},
   "outputs": [
    {
     "name": "stdout",
     "output_type": "stream",
     "text": [
      "         ISBN           Book-Title           Book-Author Year-Of-Publication  \\\n",
      "0  0195153448  Classical Mythology    Mark P. O. Morford                2002   \n",
      "1  0002005018         Clara Callan  Richard Bruce Wright                2001   \n",
      "2  0002005018         Clara Callan  Richard Bruce Wright                2001   \n",
      "3  0002005018         Clara Callan  Richard Bruce Wright                2001   \n",
      "4  0002005018         Clara Callan  Richard Bruce Wright                2001   \n",
      "\n",
      "                 Publisher                                        Image-URL-S  \\\n",
      "0  Oxford University Press  http://images.amazon.com/images/P/0195153448.0...   \n",
      "1    HarperFlamingo Canada  http://images.amazon.com/images/P/0002005018.0...   \n",
      "2    HarperFlamingo Canada  http://images.amazon.com/images/P/0002005018.0...   \n",
      "3    HarperFlamingo Canada  http://images.amazon.com/images/P/0002005018.0...   \n",
      "4    HarperFlamingo Canada  http://images.amazon.com/images/P/0002005018.0...   \n",
      "\n",
      "                                         Image-URL-M  \\\n",
      "0  http://images.amazon.com/images/P/0195153448.0...   \n",
      "1  http://images.amazon.com/images/P/0002005018.0...   \n",
      "2  http://images.amazon.com/images/P/0002005018.0...   \n",
      "3  http://images.amazon.com/images/P/0002005018.0...   \n",
      "4  http://images.amazon.com/images/P/0002005018.0...   \n",
      "\n",
      "                                         Image-URL-L  User-ID  Book-Rating  \n",
      "0  http://images.amazon.com/images/P/0195153448.0...        2            0  \n",
      "1  http://images.amazon.com/images/P/0002005018.0...        8            5  \n",
      "2  http://images.amazon.com/images/P/0002005018.0...    11400            0  \n",
      "3  http://images.amazon.com/images/P/0002005018.0...    11676            8  \n",
      "4  http://images.amazon.com/images/P/0002005018.0...    41385            0  \n"
     ]
    }
   ],
   "source": [
    "# Merge the datasets based on book identifier\n",
    "combined_data = pd.merge(b, r, on='ISBN')\n",
    "\n",
    "# Display the combined dataset\n",
    "print(combined_data.head())"
   ]
  },
  {
   "cell_type": "code",
   "execution_count": 20,
   "id": "a4f2320f",
   "metadata": {},
   "outputs": [
    {
     "data": {
      "text/plain": [
       "Book-Author\n",
       "Hieronymous Kitsch   10.00\n",
       "Benjamin M. Schutz   10.00\n",
       "Ben Sonder           10.00\n",
       "Emanuel F. Hammer    10.00\n",
       "Emberley             10.00\n",
       "Name: Book-Rating, dtype: float64"
      ]
     },
     "execution_count": 20,
     "metadata": {},
     "output_type": "execute_result"
    }
   ],
   "source": [
    "# Let's check authors with biggest number of rates (total number for all books)\n",
    "high_rating_author = combined_data.groupby('Book-Author')['Book-Rating'].mean().sort_values(ascending = False)\n",
    "high_rating_author.head(5)"
   ]
  },
  {
   "cell_type": "code",
   "execution_count": 48,
   "id": "5d59db18",
   "metadata": {},
   "outputs": [],
   "source": [
    "combined_data.to_csv('merged.csv')"
   ]
  },
  {
   "cell_type": "code",
   "execution_count": 49,
   "id": "03638d3f",
   "metadata": {},
   "outputs": [
    {
     "data": {
      "text/html": [
       "<div>\n",
       "<style scoped>\n",
       "    .dataframe tbody tr th:only-of-type {\n",
       "        vertical-align: middle;\n",
       "    }\n",
       "\n",
       "    .dataframe tbody tr th {\n",
       "        vertical-align: top;\n",
       "    }\n",
       "\n",
       "    .dataframe thead th {\n",
       "        text-align: right;\n",
       "    }\n",
       "</style>\n",
       "<table border=\"1\" class=\"dataframe\">\n",
       "  <thead>\n",
       "    <tr style=\"text-align: right;\">\n",
       "      <th></th>\n",
       "      <th>ISBN</th>\n",
       "      <th>Book-Title</th>\n",
       "      <th>Book-Author</th>\n",
       "      <th>Year-Of-Publication</th>\n",
       "      <th>Publisher</th>\n",
       "      <th>Image-URL-S</th>\n",
       "      <th>Image-URL-M</th>\n",
       "      <th>Image-URL-L</th>\n",
       "      <th>User-ID</th>\n",
       "      <th>Book-Rating</th>\n",
       "    </tr>\n",
       "  </thead>\n",
       "  <tbody>\n",
       "    <tr>\n",
       "      <th>0</th>\n",
       "      <td>0195153448</td>\n",
       "      <td>Classical Mythology</td>\n",
       "      <td>Mark P. O. Morford</td>\n",
       "      <td>2002</td>\n",
       "      <td>Oxford University Press</td>\n",
       "      <td>http://images.amazon.com/images/P/0195153448.0...</td>\n",
       "      <td>http://images.amazon.com/images/P/0195153448.0...</td>\n",
       "      <td>http://images.amazon.com/images/P/0195153448.0...</td>\n",
       "      <td>2</td>\n",
       "      <td>0</td>\n",
       "    </tr>\n",
       "    <tr>\n",
       "      <th>1</th>\n",
       "      <td>0002005018</td>\n",
       "      <td>Clara Callan</td>\n",
       "      <td>Richard Bruce Wright</td>\n",
       "      <td>2001</td>\n",
       "      <td>HarperFlamingo Canada</td>\n",
       "      <td>http://images.amazon.com/images/P/0002005018.0...</td>\n",
       "      <td>http://images.amazon.com/images/P/0002005018.0...</td>\n",
       "      <td>http://images.amazon.com/images/P/0002005018.0...</td>\n",
       "      <td>8</td>\n",
       "      <td>5</td>\n",
       "    </tr>\n",
       "    <tr>\n",
       "      <th>2</th>\n",
       "      <td>0002005018</td>\n",
       "      <td>Clara Callan</td>\n",
       "      <td>Richard Bruce Wright</td>\n",
       "      <td>2001</td>\n",
       "      <td>HarperFlamingo Canada</td>\n",
       "      <td>http://images.amazon.com/images/P/0002005018.0...</td>\n",
       "      <td>http://images.amazon.com/images/P/0002005018.0...</td>\n",
       "      <td>http://images.amazon.com/images/P/0002005018.0...</td>\n",
       "      <td>11400</td>\n",
       "      <td>0</td>\n",
       "    </tr>\n",
       "    <tr>\n",
       "      <th>3</th>\n",
       "      <td>0002005018</td>\n",
       "      <td>Clara Callan</td>\n",
       "      <td>Richard Bruce Wright</td>\n",
       "      <td>2001</td>\n",
       "      <td>HarperFlamingo Canada</td>\n",
       "      <td>http://images.amazon.com/images/P/0002005018.0...</td>\n",
       "      <td>http://images.amazon.com/images/P/0002005018.0...</td>\n",
       "      <td>http://images.amazon.com/images/P/0002005018.0...</td>\n",
       "      <td>11676</td>\n",
       "      <td>8</td>\n",
       "    </tr>\n",
       "    <tr>\n",
       "      <th>4</th>\n",
       "      <td>0002005018</td>\n",
       "      <td>Clara Callan</td>\n",
       "      <td>Richard Bruce Wright</td>\n",
       "      <td>2001</td>\n",
       "      <td>HarperFlamingo Canada</td>\n",
       "      <td>http://images.amazon.com/images/P/0002005018.0...</td>\n",
       "      <td>http://images.amazon.com/images/P/0002005018.0...</td>\n",
       "      <td>http://images.amazon.com/images/P/0002005018.0...</td>\n",
       "      <td>41385</td>\n",
       "      <td>0</td>\n",
       "    </tr>\n",
       "  </tbody>\n",
       "</table>\n",
       "</div>"
      ],
      "text/plain": [
       "         ISBN           Book-Title           Book-Author Year-Of-Publication  \\\n",
       "0  0195153448  Classical Mythology    Mark P. O. Morford                2002   \n",
       "1  0002005018         Clara Callan  Richard Bruce Wright                2001   \n",
       "2  0002005018         Clara Callan  Richard Bruce Wright                2001   \n",
       "3  0002005018         Clara Callan  Richard Bruce Wright                2001   \n",
       "4  0002005018         Clara Callan  Richard Bruce Wright                2001   \n",
       "\n",
       "                 Publisher                                        Image-URL-S  \\\n",
       "0  Oxford University Press  http://images.amazon.com/images/P/0195153448.0...   \n",
       "1    HarperFlamingo Canada  http://images.amazon.com/images/P/0002005018.0...   \n",
       "2    HarperFlamingo Canada  http://images.amazon.com/images/P/0002005018.0...   \n",
       "3    HarperFlamingo Canada  http://images.amazon.com/images/P/0002005018.0...   \n",
       "4    HarperFlamingo Canada  http://images.amazon.com/images/P/0002005018.0...   \n",
       "\n",
       "                                         Image-URL-M  \\\n",
       "0  http://images.amazon.com/images/P/0195153448.0...   \n",
       "1  http://images.amazon.com/images/P/0002005018.0...   \n",
       "2  http://images.amazon.com/images/P/0002005018.0...   \n",
       "3  http://images.amazon.com/images/P/0002005018.0...   \n",
       "4  http://images.amazon.com/images/P/0002005018.0...   \n",
       "\n",
       "                                         Image-URL-L  User-ID  Book-Rating  \n",
       "0  http://images.amazon.com/images/P/0195153448.0...        2            0  \n",
       "1  http://images.amazon.com/images/P/0002005018.0...        8            5  \n",
       "2  http://images.amazon.com/images/P/0002005018.0...    11400            0  \n",
       "3  http://images.amazon.com/images/P/0002005018.0...    11676            8  \n",
       "4  http://images.amazon.com/images/P/0002005018.0...    41385            0  "
      ]
     },
     "execution_count": 49,
     "metadata": {},
     "output_type": "execute_result"
    }
   ],
   "source": [
    "combined_data.head()"
   ]
  },
  {
   "cell_type": "code",
   "execution_count": 23,
   "id": "dd0ba616",
   "metadata": {},
   "outputs": [],
   "source": [
    "fd = pd.read_csv('merged.csv')"
   ]
  },
  {
   "cell_type": "code",
   "execution_count": 24,
   "id": "1351d746",
   "metadata": {},
   "outputs": [
    {
     "data": {
      "text/plain": [
       "(1031136, 11)"
      ]
     },
     "execution_count": 24,
     "metadata": {},
     "output_type": "execute_result"
    }
   ],
   "source": [
    "fd.shape"
   ]
  },
  {
   "cell_type": "code",
   "execution_count": 25,
   "id": "b6bf0bfe",
   "metadata": {},
   "outputs": [
    {
     "data": {
      "text/html": [
       "<div>\n",
       "<style scoped>\n",
       "    .dataframe tbody tr th:only-of-type {\n",
       "        vertical-align: middle;\n",
       "    }\n",
       "\n",
       "    .dataframe tbody tr th {\n",
       "        vertical-align: top;\n",
       "    }\n",
       "\n",
       "    .dataframe thead th {\n",
       "        text-align: right;\n",
       "    }\n",
       "</style>\n",
       "<table border=\"1\" class=\"dataframe\">\n",
       "  <thead>\n",
       "    <tr style=\"text-align: right;\">\n",
       "      <th></th>\n",
       "      <th>Unnamed: 0</th>\n",
       "      <th>ISBN</th>\n",
       "      <th>Book-Title</th>\n",
       "      <th>Book-Author</th>\n",
       "      <th>Year-Of-Publication</th>\n",
       "      <th>Publisher</th>\n",
       "      <th>Image-URL-S</th>\n",
       "      <th>Image-URL-M</th>\n",
       "      <th>Image-URL-L</th>\n",
       "      <th>User-ID</th>\n",
       "      <th>Book-Rating</th>\n",
       "    </tr>\n",
       "  </thead>\n",
       "  <tbody>\n",
       "    <tr>\n",
       "      <th>0</th>\n",
       "      <td>0</td>\n",
       "      <td>0195153448</td>\n",
       "      <td>Classical Mythology</td>\n",
       "      <td>Mark P. O. Morford</td>\n",
       "      <td>2002</td>\n",
       "      <td>Oxford University Press</td>\n",
       "      <td>http://images.amazon.com/images/P/0195153448.0...</td>\n",
       "      <td>http://images.amazon.com/images/P/0195153448.0...</td>\n",
       "      <td>http://images.amazon.com/images/P/0195153448.0...</td>\n",
       "      <td>2</td>\n",
       "      <td>0</td>\n",
       "    </tr>\n",
       "    <tr>\n",
       "      <th>1</th>\n",
       "      <td>1</td>\n",
       "      <td>0002005018</td>\n",
       "      <td>Clara Callan</td>\n",
       "      <td>Richard Bruce Wright</td>\n",
       "      <td>2001</td>\n",
       "      <td>HarperFlamingo Canada</td>\n",
       "      <td>http://images.amazon.com/images/P/0002005018.0...</td>\n",
       "      <td>http://images.amazon.com/images/P/0002005018.0...</td>\n",
       "      <td>http://images.amazon.com/images/P/0002005018.0...</td>\n",
       "      <td>8</td>\n",
       "      <td>5</td>\n",
       "    </tr>\n",
       "    <tr>\n",
       "      <th>2</th>\n",
       "      <td>2</td>\n",
       "      <td>0002005018</td>\n",
       "      <td>Clara Callan</td>\n",
       "      <td>Richard Bruce Wright</td>\n",
       "      <td>2001</td>\n",
       "      <td>HarperFlamingo Canada</td>\n",
       "      <td>http://images.amazon.com/images/P/0002005018.0...</td>\n",
       "      <td>http://images.amazon.com/images/P/0002005018.0...</td>\n",
       "      <td>http://images.amazon.com/images/P/0002005018.0...</td>\n",
       "      <td>11400</td>\n",
       "      <td>0</td>\n",
       "    </tr>\n",
       "    <tr>\n",
       "      <th>3</th>\n",
       "      <td>3</td>\n",
       "      <td>0002005018</td>\n",
       "      <td>Clara Callan</td>\n",
       "      <td>Richard Bruce Wright</td>\n",
       "      <td>2001</td>\n",
       "      <td>HarperFlamingo Canada</td>\n",
       "      <td>http://images.amazon.com/images/P/0002005018.0...</td>\n",
       "      <td>http://images.amazon.com/images/P/0002005018.0...</td>\n",
       "      <td>http://images.amazon.com/images/P/0002005018.0...</td>\n",
       "      <td>11676</td>\n",
       "      <td>8</td>\n",
       "    </tr>\n",
       "  </tbody>\n",
       "</table>\n",
       "</div>"
      ],
      "text/plain": [
       "   Unnamed: 0        ISBN           Book-Title           Book-Author  \\\n",
       "0           0  0195153448  Classical Mythology    Mark P. O. Morford   \n",
       "1           1  0002005018         Clara Callan  Richard Bruce Wright   \n",
       "2           2  0002005018         Clara Callan  Richard Bruce Wright   \n",
       "3           3  0002005018         Clara Callan  Richard Bruce Wright   \n",
       "\n",
       "  Year-Of-Publication                Publisher  \\\n",
       "0                2002  Oxford University Press   \n",
       "1                2001    HarperFlamingo Canada   \n",
       "2                2001    HarperFlamingo Canada   \n",
       "3                2001    HarperFlamingo Canada   \n",
       "\n",
       "                                         Image-URL-S  \\\n",
       "0  http://images.amazon.com/images/P/0195153448.0...   \n",
       "1  http://images.amazon.com/images/P/0002005018.0...   \n",
       "2  http://images.amazon.com/images/P/0002005018.0...   \n",
       "3  http://images.amazon.com/images/P/0002005018.0...   \n",
       "\n",
       "                                         Image-URL-M  \\\n",
       "0  http://images.amazon.com/images/P/0195153448.0...   \n",
       "1  http://images.amazon.com/images/P/0002005018.0...   \n",
       "2  http://images.amazon.com/images/P/0002005018.0...   \n",
       "3  http://images.amazon.com/images/P/0002005018.0...   \n",
       "\n",
       "                                         Image-URL-L  User-ID  Book-Rating  \n",
       "0  http://images.amazon.com/images/P/0195153448.0...        2            0  \n",
       "1  http://images.amazon.com/images/P/0002005018.0...        8            5  \n",
       "2  http://images.amazon.com/images/P/0002005018.0...    11400            0  \n",
       "3  http://images.amazon.com/images/P/0002005018.0...    11676            8  "
      ]
     },
     "execution_count": 25,
     "metadata": {},
     "output_type": "execute_result"
    }
   ],
   "source": [
    "fd.head(4)"
   ]
  },
  {
   "cell_type": "code",
   "execution_count": 26,
   "id": "00ecfaec",
   "metadata": {},
   "outputs": [],
   "source": [
    "book_pivot= fd.pivot_table(index ='Book-Title', columns= 'Book-Rating', values ='User-ID')"
   ]
  },
  {
   "cell_type": "code",
   "execution_count": 27,
   "id": "17232a7e",
   "metadata": {},
   "outputs": [
    {
     "data": {
      "text/plain": [
       "(241071, 11)"
      ]
     },
     "execution_count": 27,
     "metadata": {},
     "output_type": "execute_result"
    }
   ],
   "source": [
    "book_pivot.shape"
   ]
  },
  {
   "cell_type": "code",
   "execution_count": 28,
   "id": "b30f7194",
   "metadata": {},
   "outputs": [],
   "source": [
    "from scipy.sparse import csr_matrix"
   ]
  },
  {
   "cell_type": "code",
   "execution_count": 29,
   "id": "8517c5da",
   "metadata": {},
   "outputs": [],
   "source": [
    "book_sparse = csr_matrix(book_pivot)"
   ]
  },
  {
   "cell_type": "code",
   "execution_count": 30,
   "id": "7ac1afa6",
   "metadata": {},
   "outputs": [
    {
     "data": {
      "text/plain": [
       "<241071x11 sparse matrix of type '<class 'numpy.float64'>'\n",
       "\twith 2651781 stored elements in Compressed Sparse Row format>"
      ]
     },
     "execution_count": 30,
     "metadata": {},
     "output_type": "execute_result"
    }
   ],
   "source": [
    "book_sparse"
   ]
  },
  {
   "cell_type": "code",
   "execution_count": 31,
   "id": "261ece4a",
   "metadata": {},
   "outputs": [],
   "source": [
    "from sklearn.preprocessing import StandardScaler\n",
    "from sklearn.impute import SimpleImputer"
   ]
  },
  {
   "cell_type": "code",
   "execution_count": 32,
   "id": "a6d982d5",
   "metadata": {},
   "outputs": [],
   "source": [
    "imputer = SimpleImputer(strategy='mean')\n",
    "book_sparse = imputer.fit_transform(book_sparse)"
   ]
  },
  {
   "cell_type": "code",
   "execution_count": 33,
   "id": "3bb5f594",
   "metadata": {},
   "outputs": [],
   "source": [
    "scaler = StandardScaler(with_mean=False)\n",
    "book_sparse = scaler.fit_transform(book_sparse)"
   ]
  },
  {
   "cell_type": "code",
   "execution_count": 34,
   "id": "0518b10a",
   "metadata": {},
   "outputs": [],
   "source": [
    "from sklearn.neighbors import NearestNeighbors\n",
    "model = NearestNeighbors (algorithm= 'brute')"
   ]
  },
  {
   "cell_type": "code",
   "execution_count": 35,
   "id": "617ed294",
   "metadata": {},
   "outputs": [
    {
     "data": {
      "text/plain": [
       "NearestNeighbors(algorithm='brute')"
      ]
     },
     "execution_count": 35,
     "metadata": {},
     "output_type": "execute_result"
    }
   ],
   "source": [
    "model.fit(book_sparse)"
   ]
  },
  {
   "cell_type": "code",
   "execution_count": 36,
   "id": "d773670b",
   "metadata": {},
   "outputs": [
    {
     "data": {
      "text/plain": [
       "<241071x11 sparse matrix of type '<class 'numpy.float64'>'\n",
       "\twith 2651781 stored elements in Compressed Sparse Row format>"
      ]
     },
     "execution_count": 36,
     "metadata": {},
     "output_type": "execute_result"
    }
   ],
   "source": [
    "book_sparse"
   ]
  },
  {
   "cell_type": "code",
   "execution_count": 37,
   "id": "c2e9174b",
   "metadata": {},
   "outputs": [],
   "source": [
    "book_pivot_filled = book_pivot.fillna(book_pivot.mean())\n"
   ]
  },
  {
   "cell_type": "code",
   "execution_count": 38,
   "id": "cd812588",
   "metadata": {},
   "outputs": [],
   "source": [
    "# Reshape and find nearest neighbors\n",
    "distance, suggestion = model.kneighbors(book_pivot_filled.iloc[237, :].values.reshape(1, -1), n_neighbors=6)"
   ]
  },
  {
   "cell_type": "code",
   "execution_count": 39,
   "id": "4a3e323b",
   "metadata": {},
   "outputs": [
    {
     "data": {
      "text/plain": [
       "array([[444207.39071525, 444207.48541358, 444208.14325747,\n",
       "        444208.46461564, 444208.78595609, 444209.16269906]])"
      ]
     },
     "execution_count": 39,
     "metadata": {},
     "output_type": "execute_result"
    }
   ],
   "source": [
    "distance"
   ]
  },
  {
   "cell_type": "code",
   "execution_count": 40,
   "id": "0c14aa22",
   "metadata": {},
   "outputs": [
    {
     "data": {
      "text/plain": [
       "array([[ 26698,  17259,  43112, 124277, 181325, 212867]], dtype=int64)"
      ]
     },
     "execution_count": 40,
     "metadata": {},
     "output_type": "execute_result"
    }
   ],
   "source": [
    "suggestion"
   ]
  },
  {
   "cell_type": "code",
   "execution_count": 41,
   "id": "3d5bad85",
   "metadata": {},
   "outputs": [
    {
     "name": "stdout",
     "output_type": "stream",
     "text": [
      "Index(['Bored of the Rings: A Parody of J.R.R. Tolkien's the Lord of the Rings',\n",
      "       'At Home in Mitford (The Mitford Years)', 'Daddy's Little Girl',\n",
      "       'Mr. X', 'The Claiming of Sleeping Beauty (Sleeping Beauty)',\n",
      "       'The Wasp Factory'],\n",
      "      dtype='object', name='Book-Title')\n"
     ]
    }
   ],
   "source": [
    "for i in range(len(suggestion)):\n",
    "    print(book_pivot.index[suggestion[i]])"
   ]
  },
  {
   "cell_type": "code",
   "execution_count": 42,
   "id": "82de61e7",
   "metadata": {},
   "outputs": [],
   "source": [
    "books_name = book_pivot.index"
   ]
  },
  {
   "cell_type": "code",
   "execution_count": 43,
   "id": "4653c904",
   "metadata": {},
   "outputs": [],
   "source": [
    "import pickle\n",
    "pickle.dump (model, open('artifacts/model.pkl', 'wb'))\n",
    "pickle.dump (books_name, open('artifacts/books_name.pkl', 'wb'))\n",
    "pickle.dump(fd, open('artifacts/fd.pkl', 'wb'))\n",
    "pickle.dump (book_pivot, open('artifacts/book_pivot.pkl', 'wb'))"
   ]
  },
  {
   "cell_type": "code",
   "execution_count": 44,
   "id": "7501272f",
   "metadata": {},
   "outputs": [],
   "source": [
    "import ipywidgets"
   ]
  },
  {
   "cell_type": "code",
   "execution_count": 47,
   "id": "3714c072",
   "metadata": {},
   "outputs": [
    {
     "data": {
      "application/vnd.jupyter.widget-view+json": {
       "model_id": "fba1e755fa21430cb5bb292e85521fea",
       "version_major": 2,
       "version_minor": 0
      },
      "text/plain": [
       "HTML(value='Enter book: ')"
      ]
     },
     "metadata": {},
     "output_type": "display_data"
    },
    {
     "data": {
      "application/vnd.jupyter.widget-view+json": {
       "model_id": "9009fd91935d4c34b135016df10619c0",
       "version_major": 2,
       "version_minor": 0
      },
      "text/plain": [
       "Text(value='', description='String:', placeholder='Type here')"
      ]
     },
     "metadata": {},
     "output_type": "display_data"
    }
   ],
   "source": [
    "import ipywidgets as widgets\n",
    "from IPython.display import display\n",
    "\n",
    "text = widgets.Text(value='',\n",
    "                   placeholder='Type here',\n",
    "                   description='String:',\n",
    "                   disabled=False)\n",
    "\n",
    "instructions = widgets.HTML('Enter book: ')\n",
    "display(instructions)\n",
    "display(text)\n",
    "\n",
    "def recommend_book(book_name):\n",
    "    # Your book recommendation logic goes here\n",
    "    book_id = np.where(book_pivot.index == book_name)[0][0]\n",
    "    distance, suggestion = model.kneighbors(book_pivot_filled.iloc[book_id, :].values.reshape(1, -1), n_neighbors=6)\n",
    "\n",
    "    for i in range(len(suggestion)):\n",
    "        books = book_pivot.index[suggestion[i]]\n",
    "        print(\"Recommended Books: \")\n",
    "        for j in books:\n",
    "            print(j)\n",
    "\n",
    "def on_submit_handler(sender):\n",
    "    recommend_book(text.value)\n",
    "\n",
    "text.on_submit(on_submit_handler)\n"
   ]
  },
  {
   "cell_type": "code",
   "execution_count": null,
   "id": "56def37e",
   "metadata": {},
   "outputs": [],
   "source": []
  }
 ],
 "metadata": {
  "kernelspec": {
   "display_name": "Python 3 (ipykernel)",
   "language": "python",
   "name": "python3"
  },
  "language_info": {
   "codemirror_mode": {
    "name": "ipython",
    "version": 3
   },
   "file_extension": ".py",
   "mimetype": "text/x-python",
   "name": "python",
   "nbconvert_exporter": "python",
   "pygments_lexer": "ipython3",
   "version": "3.9.13"
  }
 },
 "nbformat": 4,
 "nbformat_minor": 5
}
